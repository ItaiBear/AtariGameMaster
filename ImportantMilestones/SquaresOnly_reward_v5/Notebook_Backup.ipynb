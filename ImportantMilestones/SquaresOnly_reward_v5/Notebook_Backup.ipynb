{
  "cells": [
    {
      "cell_type": "markdown",
      "metadata": {
        "id": "W1KbrN9Li5i8"
      },
      "source": [
        "## Environment Setup"
      ]
    },
    {
      "cell_type": "code",
      "execution_count": null,
      "metadata": {
        "colab": {
          "base_uri": "https://localhost:8080/"
        },
        "id": "LSm_UBPsLzq_",
        "outputId": "39d8ba22-4808-4519-d1ce-388cb794e306"
      },
      "outputs": [],
      "source": [
        "!pip install tensorboardX\n",
        "!pip install pyglet==1.5.1\n",
        "!pip install torchsummary\n",
        "!pip install optuna\n",
        "!pip install optuna-dashboard"
      ]
    },
    {
      "cell_type": "code",
      "execution_count": null,
      "metadata": {
        "colab": {
          "base_uri": "https://localhost:8080/"
        },
        "id": "cbigCoubxceQ",
        "outputId": "da980382-8858-44f8-e876-39872e99ac1f"
      },
      "outputs": [],
      "source": [
        "!pip install setuptools==65.5.1\n",
        "!pip install gym==0.21.0\n",
        "!pip install stable-baselines3[extra]"
      ]
    },
    {
      "cell_type": "code",
      "execution_count": null,
      "metadata": {
        "colab": {
          "base_uri": "https://localhost:8080/"
        },
        "id": "Mc0SC4CrMXSk",
        "outputId": "72a96155-d3d3-4f64-e143-6913e97a2d07"
      },
      "outputs": [],
      "source": [
        "# !sudo apt-get install -y xvfb\n",
        "!pip install pyvirtualdisplay"
      ]
    },
    {
      "cell_type": "code",
      "execution_count": null,
      "metadata": {},
      "outputs": [],
      "source": [
        "!nvidia-smi"
      ]
    },
    {
      "attachments": {},
      "cell_type": "markdown",
      "metadata": {
        "id": "kImBr6NFjKIY"
      },
      "source": [
        "## Imports"
      ]
    },
    {
      "cell_type": "code",
      "execution_count": null,
      "metadata": {
        "colab": {
          "base_uri": "https://localhost:8080/"
        },
        "id": "y1NHYcVNMQaW",
        "outputId": "48e3c777-fc26-4b63-eba1-6e11e47aa30c"
      },
      "outputs": [],
      "source": [
        "from pyvirtualdisplay import Display\n",
        "\n",
        "virtual_display = Display(visible=0, size=(1024, 768))\n",
        "virtual_display.start()"
      ]
    },
    {
      "cell_type": "code",
      "execution_count": null,
      "metadata": {},
      "outputs": [],
      "source": [
        "import sys\n",
        "import os\n",
        "\n",
        "# Get the absolute path to the parent directory of gym-tetris\n",
        "gym_tetris_parent_path = os.path.abspath(os.path.join('..', 'gym-tetris'))\n",
        "\n",
        "# Append the path to the sys.path\n",
        "sys.path.append(gym_tetris_parent_path)"
      ]
    },
    {
      "cell_type": "code",
      "execution_count": null,
      "metadata": {
        "id": "TidRAkGEU0Wl"
      },
      "outputs": [],
      "source": [
        "import random\n",
        "import time\n",
        "from distutils.util import strtobool\n",
        "\n",
        "import gym\n",
        "import numpy as np\n",
        "import cv2\n",
        "import torch\n",
        "import torch.nn as nn\n",
        "import torch.nn.functional as F\n",
        "import torch.optim as optim\n",
        "from stable_baselines3.common.buffers import ReplayBuffer\n",
        "from torch.utils.tensorboard import SummaryWriter\n",
        "\n",
        "from nes_py.wrappers import JoypadSpace\n",
        "import gym_tetris\n",
        "from gym_tetris.actions import SIMPLE_MOVEMENT\n",
        "\n",
        "from torchsummary import summary"
      ]
    },
    {
      "attachments": {},
      "cell_type": "markdown",
      "metadata": {},
      "source": [
        "## Model"
      ]
    },
    {
      "cell_type": "code",
      "execution_count": null,
      "metadata": {
        "id": "H-rvKojYAuK3"
      },
      "outputs": [],
      "source": [
        "# class QNetwork(nn.Module):\n",
        "#     def __init__(self, actions_num):\n",
        "#         super().__init__()\n",
        "#         self.network =  nn.Sequential(\n",
        "#             # (1, 84, 84)\n",
        "#             nn.Conv2d(1, 32, 8, stride=4),\n",
        "#             nn.ReLU(),\n",
        "#             # (32, 20, 20)\n",
        "#             nn.Conv2d(32, 64, 4, stride=2),\n",
        "#             nn.ReLU(),\n",
        "#             # (64, 9, 9)\n",
        "#             nn.Conv2d(64, 64, 3, stride=1),\n",
        "#             nn.ReLU(),\n",
        "#             # (64, 7, 7)\n",
        "#             nn.Flatten(),\n",
        "#             # 3136\n",
        "#             nn.Dropout(0.2),\n",
        "#             nn.Linear(3136, 512),\n",
        "#             nn.Dropout(0.2),\n",
        "#             nn.ReLU(),\n",
        "#             nn.Linear(512, actions_num),\n",
        "#         )\n",
        "\n",
        "#     def forward(self, x):\n",
        "#         return self.network(x / 255.0)\n",
        "\n",
        "class QNetwork(nn.Module):\n",
        "    def __init__(self, actions_num, frame_stack=1):\n",
        "        super().__init__()\n",
        "        self.network =  nn.Sequential(\n",
        "            # (frame_stack, 84, 84)\n",
        "            nn.Conv2d(frame_stack, 32, 8, stride=4),\n",
        "            nn.ReLU(),\n",
        "            # (32, 20, 20)\n",
        "            nn.Conv2d(32, 64, 4, stride=2),\n",
        "            nn.ReLU(),\n",
        "            # (64, 9, 9)\n",
        "            nn.Conv2d(64, 64, 3, stride=1),\n",
        "            nn.ReLU(),\n",
        "            # (64, 7, 7)\n",
        "            nn.Flatten(),\n",
        "            # 3136\n",
        "            # nn.Dropout(0.2),\n",
        "            nn.Linear(3136, 512),\n",
        "            # nn.Dropout(0.2),\n",
        "            nn.ReLU(),\n",
        "            nn.Linear(512, actions_num),\n",
        "        )\n",
        "\n",
        "    def forward(self, x):\n",
        "        # print(x.flatten()[0])\n",
        "        return self.network(x / 255.0)\n",
        "\n",
        "\n",
        "def linear_schedule(start_e: float, end_e: float, duration: int, t: int):\n",
        "    slope = (end_e - start_e) / duration\n",
        "    return max(slope * t + start_e, end_e)"
      ]
    },
    {
      "attachments": {},
      "cell_type": "markdown",
      "metadata": {
        "id": "8KbPbg5G8_sO"
      },
      "source": [
        "## Training"
      ]
    },
    {
      "cell_type": "code",
      "execution_count": null,
      "metadata": {},
      "outputs": [],
      "source": [
        "# from collections import deque\n",
        "# class MaxAndSkipEnv(gym.Wrapper):\n",
        "#     def __init__(self, env=None, skip=4):\n",
        "#         super(MaxAndSkipEnv, self).__init__(env)\n",
        "#         self._obs_buffer = deque(maxlen=2)\n",
        "#         self._skip = skip\n",
        "\n",
        "#     def step(self, action):\n",
        "#         total_reward = 0.0\n",
        "#         done = None\n",
        "#         for _ in range(self._skip):\n",
        "#             obs, reward, done, info = self.env.step(action)\n",
        "#             self._obs_buffer.append(obs)\n",
        "#             total_reward += reward\n",
        "#             if done:\n",
        "#                 break\n",
        "#         max_frame = np.max(np.stack(self._obs_buffer), axis=0)\n",
        "#         return max_frame, total_reward, done, info\n",
        "    \n",
        "#     def reset(self):\n",
        "#         self._obs_buffer.clear()\n",
        "#         obs = self.env.reset()\n",
        "#         self._obs_buffer.append(obs)\n",
        "#         return obs"
      ]
    },
    {
      "cell_type": "code",
      "execution_count": null,
      "metadata": {},
      "outputs": [],
      "source": [
        "class FrameSkipEnv(gym.Wrapper):\n",
        "    def __init__(self, env=None, skip=4, only_first=False):\n",
        "        super(FrameSkipEnv, self).__init__(env)\n",
        "        self._skip = skip\n",
        "        self._only_first = only_first\n",
        "\n",
        "    def step(self, action):\n",
        "        total_reward = 0.0\n",
        "        done = None\n",
        "        for i in range(self._skip):\n",
        "            # Only do the action on the first frame (action 0 is always NOOP)\n",
        "            real_action = 0 if (self._only_first and i > 0) else action\n",
        "            obs, reward, done, info = self.env.step(real_action)\n",
        "            total_reward += reward\n",
        "            if done:\n",
        "                break\n",
        "        return obs, total_reward, done, info\n",
        "    \n",
        "    def reset(self):\n",
        "        obs = self.env.reset()\n",
        "        return obs"
      ]
    },
    {
      "cell_type": "code",
      "execution_count": null,
      "metadata": {
        "id": "ZCEBIoO8pd9D"
      },
      "outputs": [],
      "source": [
        "BOX = 47, 95, 209, 176\n",
        "# Making an environment\n",
        "def get_env(env_id, seed, capture_video, run_name, video_freq=100, frame_stack=4):\n",
        "    env = gym_tetris.make(env_id)\n",
        "    env = JoypadSpace(env, SIMPLE_MOVEMENT)\n",
        "    env = gym.wrappers.RecordEpisodeStatistics(env)\n",
        "    if capture_video:\n",
        "        env = gym.wrappers.RecordVideo(env, f\"videos/{run_name}\", episode_trigger=lambda ep_num: ep_num % video_freq == 0)\n",
        "    \n",
        "    crop = lambda obs : obs[BOX[0]:BOX[2], BOX[1]:BOX[3], :]\n",
        "    env = gym.wrappers.TransformObservation(env, crop)\n",
        "    env = gym.wrappers.ResizeObservation(env, (84, 84))\n",
        "    env = gym.wrappers.GrayScaleObservation(env)\n",
        "\n",
        "    env = FrameSkipEnv(env, skip=16, only_first=True)\n",
        "    env = gym.wrappers.FrameStack(env, frame_stack)\n",
        "    env = FrameSkipEnv(env, skip=2, only_first=False)\n",
        "\n",
        "    env.seed(seed)\n",
        "    env.action_space.seed(seed)\n",
        "    env.observation_space.seed(seed)\n",
        "    return env"
      ]
    },
    {
      "cell_type": "code",
      "execution_count": null,
      "metadata": {},
      "outputs": [],
      "source": [
        "# Evaluation\n",
        "def evaluate(\n",
        "    model: torch.nn.Module,\n",
        "    env_id: str,\n",
        "    eval_episodes: int,\n",
        "    run_name: str,\n",
        "    seed: int,\n",
        "    device: torch.device = torch.device(\"cpu\"),\n",
        "    capture_video: bool = True,\n",
        "    video_frequency: int = 1,\n",
        "    frame_stack: int = 1\n",
        "):\n",
        "    env = get_env(env_id, seed, capture_video, run_name, video_frequency, frame_stack) \n",
        "    \n",
        "    model.eval()\n",
        "\n",
        "    scores = []\n",
        "    for _ in range(eval_episodes):\n",
        "        obs = env.reset()\n",
        "        done = False\n",
        "        while not done:\n",
        "            input = np.expand_dims(np.array(obs), axis=0)\n",
        "            q_values = model(torch.Tensor(input).to(device))\n",
        "            action = int(torch.argmax(q_values))\n",
        "            obs, _, done, info = env.step(action)\n",
        "        \n",
        "        print(f\"eval_episode={len(scores)}, score={info.get('score')}, episodic_return={info.get('episode')['r']}\")\n",
        "        scores.append(info.get(\"score\"))\n",
        "\n",
        "    env.close()\n",
        "    return scores"
      ]
    },
    {
      "cell_type": "code",
      "execution_count": null,
      "metadata": {},
      "outputs": [],
      "source": [
        "# Single env training without optuna - for simplicity\n",
        "def train(args):\n",
        "    run_name = f\"{args.env_id}__{args.exp_name}__{args.seed}__{int(time.time())}\"\n",
        "    prefix = \"\"\n",
        "    \n",
        "    writer = SummaryWriter(f\"runs/{run_name}\")\n",
        "    writer.add_text(\n",
        "        \"hyperparameters\",\n",
        "        \"|param|value|\\n|-|-|\\n%s\" % (\"\\n\".join([f\"|{key}|{value}|\" for key, value in vars(args).items()])),\n",
        "    )\n",
        "\n",
        "    # TRY NOT TO MODIFY: seeding\n",
        "    random.seed(args.seed)\n",
        "    np.random.seed(args.seed)\n",
        "    torch.manual_seed(args.seed)\n",
        "    torch.backends.cudnn.deterministic = args.torch_deterministic\n",
        "\n",
        "    device_name = \"cuda\" if torch.cuda.is_available() and args.cuda else \"cpu\"\n",
        "    device_name = \"mps\" if torch.backends.mps.is_available() and args.mps else device_name\n",
        "    device = torch.device(device_name)\n",
        "\n",
        "    print(\"device_name:\", device_name)\n",
        "\n",
        "    # env setup\n",
        "    env = get_env(args.env_id, args.seed, args.capture_video, run_name, args.video_frequency, args.frame_stack)\n",
        "    assert isinstance(env.action_space, gym.spaces.Discrete), \"only discrete action space is supported\"\n",
        "\n",
        "    q_network = QNetwork(env.action_space.n, args.frame_stack).to(device)\n",
        "    optimizer = optim.Adam(q_network.parameters(), lr=args.learning_rate)\n",
        "    target_network = QNetwork(env.action_space.n, args.frame_stack).to(device)\n",
        "    target_network.load_state_dict(q_network.state_dict())\n",
        "\n",
        "    summary(q_network, input_size=(args.frame_stack, 84, 84), batch_size=args.batch_size, device=device_name)\n",
        "\n",
        "    rb = ReplayBuffer(\n",
        "        args.buffer_size,\n",
        "        env.observation_space,\n",
        "        env.action_space,\n",
        "        device,\n",
        "    )\n",
        "\n",
        "    start_time = time.time()\n",
        "\n",
        "    # Tracks the number of pieces we have played\n",
        "    piece_count = 0\n",
        "    board_height = None\n",
        "    explore = True\n",
        "    info = None\n",
        "\n",
        "    episode_cnt = 0\n",
        "\n",
        "    input_fps = 2\n",
        "    input_size = (84,84)\n",
        "    if args.capture_inputs_video:\n",
        "        out = cv2.VideoWriter(f'episode0.mp4', cv2.VideoWriter_fourcc(*'mp4v'), input_fps, (input_size[1], input_size[0]), False)\n",
        "\n",
        "    # TRY NOT TO MODIFY: start the game\n",
        "    obs = env.reset()\n",
        "    for global_step in range(args.total_timesteps):\n",
        "        \n",
        "        if args.capture_inputs_video and (episode_cnt % args.video_frequency == 0):\n",
        "            img = np.array(obs).astype('uint8')\n",
        "            if args.frame_stack > 1:\n",
        "                img = img[0]\n",
        "            out.write(img)\n",
        "        \n",
        "        # If a new piece has been generated, decide wether we will explore or exploit for this piece\n",
        "        if (info is not None) and (piece_count != info.get(\"piece_count\")):\n",
        "            piece_count = info.get(\"piece_count\")\n",
        "            epsilon = linear_schedule(args.start_e, args.end_e, args.exploration_fraction * args.total_timesteps, global_step)\n",
        "            explore = (random.random() < epsilon)\n",
        "\n",
        "        if explore:\n",
        "            action = env.action_space.sample()\n",
        "        else:\n",
        "            input = np.expand_dims(np.array(obs), axis=0)\n",
        "            input = torch.Tensor(input).to(device)\n",
        "            q_values = q_network(input)\n",
        "            action = int(torch.argmax(q_values))\n",
        "\n",
        "        # Play a step with the given action\n",
        "        next_obs, reward, done, info = env.step(action)\n",
        "\n",
        "        if not done:\n",
        "            # Add observation to replay buffer\n",
        "            rb.add(obs, next_obs, np.array([action]), [reward], [done], [info])\n",
        "            obs = next_obs\n",
        "        else:\n",
        "            print(f\"Episode {episode_cnt} completed: {prefix}global_step={global_step},\\tepisodic_return={info.get('episode')['r']:.1f},\\tscore={info.get('score')}\")\n",
        "            writer.add_scalar(\"charts/episodic_return\", info.get(\"episode\")[\"r\"], global_step)\n",
        "            writer.add_scalar(\"charts/episodic_length\", info.get(\"episode\")[\"l\"], global_step)\n",
        "            writer.add_scalar(\"charts/epsilon\", epsilon, global_step)\n",
        "            writer.add_scalar(\"charts/score\", info.get(\"score\"), global_step)\n",
        "\n",
        "            obs = env.reset()\n",
        "            episode_cnt += 1\n",
        "\n",
        "            if args.capture_inputs_video:\n",
        "                if episode_cnt % args.video_frequency == 0:\n",
        "                    out = cv2.VideoWriter(f'episode{episode_cnt}.mp4', cv2.VideoWriter_fourcc(*'mp4v'), input_fps, (input_size[1], input_size[0]), False)\n",
        "                else:\n",
        "                    out = None\n",
        "\n",
        "        # Training Logic\n",
        "        if global_step > args.learning_starts:\n",
        "            if global_step % args.train_frequency == 0:\n",
        "                data = rb.sample(args.batch_size)\n",
        "                with torch.no_grad():\n",
        "                    target_max, _ = target_network(data.next_observations).max(dim=1)\n",
        "                    td_target = data.rewards.flatten() + args.gamma * target_max * (1 - data.dones.flatten())\n",
        "                old_val = q_network(data.observations).gather(1, data.actions).squeeze()\n",
        "                # loss = F.mse_loss(td_target, old_val)\n",
        "                loss = F.mse_loss(old_val, td_target)\n",
        "\n",
        "                if global_step % 100 == 0:\n",
        "                    writer.add_scalar(\"losses/td_loss\", loss, global_step)\n",
        "                    writer.add_scalar(\"losses/q_values\", old_val.mean().item(), global_step)\n",
        "                    writer.add_scalar(\"charts/SPS\", int(global_step / (time.time() - start_time)), global_step)\n",
        "\n",
        "                # optimize the model\n",
        "                optimizer.zero_grad()\n",
        "                loss.backward()\n",
        "                optimizer.step()\n",
        "\n",
        "            # update target network\n",
        "            if global_step % args.target_network_frequency == 0:\n",
        "                for target_network_param, q_network_param in zip(target_network.parameters(), q_network.parameters()):\n",
        "                    target_network_param.data.copy_(\n",
        "                        args.tau * q_network_param.data + (1.0 - args.tau) * target_network_param.data\n",
        "                    )\n",
        "\n",
        "            if global_step % args.backup_frequency == 0:\n",
        "                model_backup_path = f\"runs/{run_name}/{args.exp_name}.backup\"\n",
        "                torch.save(q_network.state_dict(), model_backup_path)\n",
        "\n",
        "    if args.save_model:\n",
        "        model_path = f\"runs/{run_name}/{args.exp_name}.cleanrl_model\"\n",
        "        torch.save(q_network.state_dict(), model_path)\n",
        "        print(f\"{prefix}model saved to {model_path}\")\n",
        "\n",
        "        scores = evaluate(\n",
        "            q_network,\n",
        "            args.env_id,\n",
        "            args.eval_episodes,\n",
        "            run_name=f\"{run_name}-eval\",\n",
        "            seed=args.seed,\n",
        "            device=device,\n",
        "            capture_video=args.capture_video,\n",
        "            frame_stack=args.frame_stack\n",
        "        )\n",
        "\n",
        "        print(\"Eval Scores:\", scores)\n",
        "        \n",
        "    env.close()\n",
        "    writer.close()"
      ]
    },
    {
      "attachments": {},
      "cell_type": "markdown",
      "metadata": {
        "id": "jhHGXzJGi-yI"
      },
      "source": [
        "## Main"
      ]
    },
    {
      "cell_type": "code",
      "execution_count": null,
      "metadata": {
        "id": "a74aYTyfXD3A"
      },
      "outputs": [],
      "source": [
        "class Args:\n",
        "    def __init__(self):\n",
        "        # Settings\n",
        "        self.exp_name = \"Tetris_DQN\"\n",
        "        self.torch_deterministic = True\n",
        "        self.cuda = True\n",
        "        self.mps = False\n",
        "        self.capture_video = True\n",
        "        self.capture_inputs_video = True\n",
        "        self.save_model = True\n",
        "        self.eval_episodes = 1\n",
        "        self.video_frequency = 50\n",
        "        self.backup_frequency = 10000\n",
        "\n",
        "        # Hyper-Parameters\n",
        "        self.env_id = \"TetrisA-v5\"\n",
        "        self.frame_stack = 4\n",
        "        self.seed = 2\n",
        "        self.total_timesteps = 1_000_000\n",
        "        self.learning_rate = 1e-4\n",
        "        self.buffer_size = 50_000\n",
        "        self.gamma = 0.99\n",
        "        self.tau = 0.999\n",
        "        self.target_network_frequency = 2000\n",
        "        self.batch_size = 32\n",
        "        self.start_e = 1\n",
        "        self.end_e = 0.05\n",
        "        self.exploration_fraction = 0.2\n",
        "        self.learning_starts = 40_000\n",
        "        self.train_frequency = 1"
      ]
    },
    {
      "cell_type": "code",
      "execution_count": null,
      "metadata": {
        "id": "74u8GL2dfD2F"
      },
      "outputs": [],
      "source": [
        "!rm -r runs/* videos/* images/* episode*.mp4"
      ]
    },
    {
      "cell_type": "code",
      "execution_count": null,
      "metadata": {
        "colab": {
          "base_uri": "https://localhost:8080/"
        },
        "id": "Qm_lId5hUjDm",
        "outputId": "c886e297-b83f-465d-bba7-06f47371cb71"
      },
      "outputs": [],
      "source": [
        "args = Args()\n",
        "train(args)"
      ]
    },
    {
      "cell_type": "code",
      "execution_count": null,
      "metadata": {
        "id": "1Q-ZggO-qtbL"
      },
      "outputs": [],
      "source": [
        "%load_ext tensorboard\n",
        "%tensorboard --logdir runs"
      ]
    },
    {
      "cell_type": "code",
      "execution_count": null,
      "metadata": {},
      "outputs": [],
      "source": [
        "# device = 'cuda'\n",
        "# state_dict = torch.load('SavedModels/score_1k_incosistent.backup', device)\n",
        "# q_network = QNetwork(6,4).to(device)\n",
        "# q_network.load_state_dict(state_dict)\n",
        "\n",
        "# scores = evaluate(\n",
        "#     q_network,\n",
        "#     args.env_id,\n",
        "#     args.eval_episodes,\n",
        "#     run_name=f\"temp-eval\",\n",
        "#     seed=args.seed,\n",
        "#     device=device,\n",
        "#     capture_video=args.capture_video,\n",
        "#     frame_stack=4\n",
        "# )\n",
        "\n",
        "# print(\"Eval Scores:\", scores)"
      ]
    }
  ],
  "metadata": {
    "accelerator": "GPU",
    "colab": {
      "collapsed_sections": [
        "W1KbrN9Li5i8",
        "ORRWWz8dIqaH"
      ],
      "provenance": []
    },
    "gpuClass": "standard",
    "kernelspec": {
      "display_name": "tetrisenv",
      "language": "python",
      "name": "python3"
    },
    "language_info": {
      "codemirror_mode": {
        "name": "ipython",
        "version": 3
      },
      "file_extension": ".py",
      "mimetype": "text/x-python",
      "name": "python",
      "nbconvert_exporter": "python",
      "pygments_lexer": "ipython3",
      "version": "3.8.10"
    },
    "vscode": {
      "interpreter": {
        "hash": "4a7f40d72114c62e91de8d79ab05a4f10d2c48422b550572d6072f074507511d"
      }
    }
  },
  "nbformat": 4,
  "nbformat_minor": 0
}
