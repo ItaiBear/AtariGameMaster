{
  "cells": [
    {
      "cell_type": "code",
      "execution_count": 24,
      "metadata": {
        "id": "74u8GL2dfD2F"
      },
      "outputs": [],
      "source": [
        "!rm -rf runs videos\n",
        "!rm db.sqlite3"
      ]
    },
    {
      "cell_type": "markdown",
      "metadata": {
        "id": "W1KbrN9Li5i8"
      },
      "source": [
        "## Environment Setup"
      ]
    },
    {
      "cell_type": "code",
      "execution_count": 14,
      "metadata": {
        "colab": {
          "base_uri": "https://localhost:8080/"
        },
        "id": "LSm_UBPsLzq_",
        "outputId": "39d8ba22-4808-4519-d1ce-388cb794e306"
      },
      "outputs": [
        {
          "name": "stdout",
          "output_type": "stream",
          "text": [
            "Defaulting to user installation because normal site-packages is not writeable\n",
            "Requirement already satisfied: tensorboardX in c:\\users\\user\\appdata\\roaming\\python\\python38\\site-packages (2.6)\n",
            "Requirement already satisfied: numpy in c:\\program files\\python38\\lib\\site-packages (from tensorboardX) (1.23.1)\n",
            "Requirement already satisfied: packaging in c:\\program files\\python38\\lib\\site-packages (from tensorboardX) (21.3)\n",
            "Requirement already satisfied: protobuf<4,>=3.8.0 in c:\\users\\user\\appdata\\roaming\\python\\python38\\site-packages (from tensorboardX) (3.20.3)\n",
            "Requirement already satisfied: pyparsing!=3.0.5,>=2.0.2 in c:\\program files\\python38\\lib\\site-packages (from packaging->tensorboardX) (3.0.9)\n"
          ]
        },
        {
          "name": "stderr",
          "output_type": "stream",
          "text": [
            "\n",
            "[notice] A new release of pip is available: 23.0.1 -> 23.1.2\n",
            "[notice] To update, run: python.exe -m pip install --upgrade pip\n"
          ]
        },
        {
          "name": "stdout",
          "output_type": "stream",
          "text": [
            "Defaulting to user installation because normal site-packages is not writeable\n",
            "Requirement already satisfied: pyglet==1.5.1 in c:\\users\\user\\appdata\\roaming\\python\\python38\\site-packages (1.5.1)\n"
          ]
        },
        {
          "name": "stderr",
          "output_type": "stream",
          "text": [
            "\n",
            "[notice] A new release of pip is available: 23.0.1 -> 23.1.2\n",
            "[notice] To update, run: python.exe -m pip install --upgrade pip\n"
          ]
        },
        {
          "name": "stdout",
          "output_type": "stream",
          "text": [
            "Defaulting to user installation because normal site-packages is not writeable\n",
            "Requirement already satisfied: torchsummary in c:\\users\\user\\appdata\\roaming\\python\\python38\\site-packages (1.5.1)\n"
          ]
        },
        {
          "name": "stderr",
          "output_type": "stream",
          "text": [
            "\n",
            "[notice] A new release of pip is available: 23.0.1 -> 23.1.2\n",
            "[notice] To update, run: python.exe -m pip install --upgrade pip\n"
          ]
        },
        {
          "name": "stdout",
          "output_type": "stream",
          "text": [
            "Defaulting to user installation because normal site-packages is not writeable\n",
            "Collecting optuna\n",
            "  Downloading optuna-3.1.1-py3-none-any.whl (365 kB)\n",
            "     -------------------------------------- 365.7/365.7 kB 2.5 MB/s eta 0:00:00\n",
            "Requirement already satisfied: numpy in c:\\program files\\python38\\lib\\site-packages (from optuna) (1.23.1)\n",
            "Collecting alembic>=1.5.0\n",
            "  Downloading alembic-1.10.4-py3-none-any.whl (212 kB)\n",
            "     -------------------------------------- 212.9/212.9 kB 6.5 MB/s eta 0:00:00\n",
            "Requirement already satisfied: packaging>=20.0 in c:\\program files\\python38\\lib\\site-packages (from optuna) (21.3)\n",
            "Collecting cmaes>=0.9.1\n",
            "  Downloading cmaes-0.9.1-py3-none-any.whl (21 kB)\n",
            "Collecting PyYAML\n",
            "  Downloading PyYAML-6.0-cp38-cp38-win_amd64.whl (155 kB)\n",
            "     -------------------------------------- 155.4/155.4 kB 9.1 MB/s eta 0:00:00\n",
            "Collecting sqlalchemy>=1.3.0\n",
            "  Downloading SQLAlchemy-2.0.12-cp38-cp38-win_amd64.whl (2.0 MB)\n",
            "     ---------------------------------------- 2.0/2.0 MB 12.6 MB/s eta 0:00:00\n",
            "Requirement already satisfied: tqdm in c:\\users\\user\\appdata\\roaming\\python\\python38\\site-packages (from optuna) (4.65.0)\n",
            "Collecting colorlog\n",
            "  Downloading colorlog-6.7.0-py2.py3-none-any.whl (11 kB)\n",
            "Requirement already satisfied: importlib-resources in c:\\program files\\python38\\lib\\site-packages (from alembic>=1.5.0->optuna) (5.9.0)\n",
            "Collecting Mako\n",
            "  Downloading Mako-1.2.4-py3-none-any.whl (78 kB)\n",
            "     ---------------------------------------- 78.7/78.7 kB 4.6 MB/s eta 0:00:00\n",
            "Requirement already satisfied: typing-extensions>=4 in c:\\users\\user\\appdata\\roaming\\python\\python38\\site-packages (from alembic>=1.5.0->optuna) (4.5.0)\n",
            "Requirement already satisfied: importlib-metadata in c:\\users\\user\\appdata\\roaming\\python\\python38\\site-packages (from alembic>=1.5.0->optuna) (4.13.0)\n",
            "Requirement already satisfied: pyparsing!=3.0.5,>=2.0.2 in c:\\program files\\python38\\lib\\site-packages (from packaging>=20.0->optuna) (3.0.9)\n",
            "Collecting greenlet!=0.4.17\n",
            "  Downloading greenlet-2.0.2-cp38-cp38-win_amd64.whl (192 kB)\n",
            "     ---------------------------------------- 192.1/192.1 kB ? eta 0:00:00\n",
            "Requirement already satisfied: colorama in c:\\program files\\python38\\lib\\site-packages (from colorlog->optuna) (0.4.5)\n",
            "Requirement already satisfied: zipp>=0.5 in c:\\program files\\python38\\lib\\site-packages (from importlib-metadata->alembic>=1.5.0->optuna) (3.8.1)\n",
            "Requirement already satisfied: MarkupSafe>=0.9.2 in c:\\program files\\python38\\lib\\site-packages (from Mako->alembic>=1.5.0->optuna) (2.1.1)\n",
            "Installing collected packages: PyYAML, Mako, greenlet, colorlog, cmaes, sqlalchemy, alembic, optuna\n",
            "Successfully installed Mako-1.2.4 PyYAML-6.0 alembic-1.10.4 cmaes-0.9.1 colorlog-6.7.0 greenlet-2.0.2 optuna-3.1.1 sqlalchemy-2.0.12\n"
          ]
        },
        {
          "name": "stderr",
          "output_type": "stream",
          "text": [
            "\n",
            "[notice] A new release of pip is available: 23.0.1 -> 23.1.2\n",
            "[notice] To update, run: python.exe -m pip install --upgrade pip\n"
          ]
        },
        {
          "name": "stdout",
          "output_type": "stream",
          "text": [
            "Defaulting to user installation because normal site-packages is not writeable\n",
            "Collecting optuna-dashboard\n",
            "  Downloading optuna_dashboard-0.9.1-py3-none-any.whl (4.3 MB)\n",
            "     ---------------------------------------- 4.3/4.3 MB 9.2 MB/s eta 0:00:00\n",
            "Requirement already satisfied: packaging in c:\\program files\\python38\\lib\\site-packages (from optuna-dashboard) (21.3)\n",
            "Collecting bottle\n",
            "  Downloading bottle-0.12.25-py3-none-any.whl (90 kB)\n",
            "     ---------------------------------------- 90.2/90.2 kB ? eta 0:00:00\n",
            "Requirement already satisfied: scikit-learn in c:\\program files\\python38\\lib\\site-packages (from optuna-dashboard) (1.1.2)\n",
            "Requirement already satisfied: optuna>=2.4.0 in c:\\users\\user\\appdata\\roaming\\python\\python38\\site-packages (from optuna-dashboard) (3.1.1)\n",
            "Requirement already satisfied: cmaes>=0.9.1 in c:\\users\\user\\appdata\\roaming\\python\\python38\\site-packages (from optuna>=2.4.0->optuna-dashboard) (0.9.1)\n",
            "Requirement already satisfied: numpy in c:\\program files\\python38\\lib\\site-packages (from optuna>=2.4.0->optuna-dashboard) (1.23.1)\n",
            "Requirement already satisfied: colorlog in c:\\users\\user\\appdata\\roaming\\python\\python38\\site-packages (from optuna>=2.4.0->optuna-dashboard) (6.7.0)\n",
            "Requirement already satisfied: alembic>=1.5.0 in c:\\users\\user\\appdata\\roaming\\python\\python38\\site-packages (from optuna>=2.4.0->optuna-dashboard) (1.10.4)\n",
            "Requirement already satisfied: sqlalchemy>=1.3.0 in c:\\users\\user\\appdata\\roaming\\python\\python38\\site-packages (from optuna>=2.4.0->optuna-dashboard) (2.0.12)\n",
            "Requirement already satisfied: PyYAML in c:\\users\\user\\appdata\\roaming\\python\\python38\\site-packages (from optuna>=2.4.0->optuna-dashboard) (6.0)\n",
            "Requirement already satisfied: tqdm in c:\\users\\user\\appdata\\roaming\\python\\python38\\site-packages (from optuna>=2.4.0->optuna-dashboard) (4.65.0)\n",
            "Requirement already satisfied: pyparsing!=3.0.5,>=2.0.2 in c:\\program files\\python38\\lib\\site-packages (from packaging->optuna-dashboard) (3.0.9)\n",
            "Requirement already satisfied: threadpoolctl>=2.0.0 in c:\\program files\\python38\\lib\\site-packages (from scikit-learn->optuna-dashboard) (3.1.0)\n",
            "Requirement already satisfied: scipy>=1.3.2 in c:\\program files\\python38\\lib\\site-packages (from scikit-learn->optuna-dashboard) (1.8.1)\n",
            "Requirement already satisfied: joblib>=1.0.0 in c:\\program files\\python38\\lib\\site-packages (from scikit-learn->optuna-dashboard) (1.1.0)\n",
            "Requirement already satisfied: Mako in c:\\users\\user\\appdata\\roaming\\python\\python38\\site-packages (from alembic>=1.5.0->optuna>=2.4.0->optuna-dashboard) (1.2.4)\n",
            "Requirement already satisfied: importlib-resources in c:\\program files\\python38\\lib\\site-packages (from alembic>=1.5.0->optuna>=2.4.0->optuna-dashboard) (5.9.0)\n",
            "Requirement already satisfied: importlib-metadata in c:\\users\\user\\appdata\\roaming\\python\\python38\\site-packages (from alembic>=1.5.0->optuna>=2.4.0->optuna-dashboard) (4.13.0)\n",
            "Requirement already satisfied: typing-extensions>=4 in c:\\users\\user\\appdata\\roaming\\python\\python38\\site-packages (from alembic>=1.5.0->optuna>=2.4.0->optuna-dashboard) (4.5.0)\n",
            "Requirement already satisfied: greenlet!=0.4.17 in c:\\users\\user\\appdata\\roaming\\python\\python38\\site-packages (from sqlalchemy>=1.3.0->optuna>=2.4.0->optuna-dashboard) (2.0.2)\n",
            "Requirement already satisfied: colorama in c:\\program files\\python38\\lib\\site-packages (from colorlog->optuna>=2.4.0->optuna-dashboard) (0.4.5)\n",
            "Requirement already satisfied: zipp>=0.5 in c:\\program files\\python38\\lib\\site-packages (from importlib-metadata->alembic>=1.5.0->optuna>=2.4.0->optuna-dashboard) (3.8.1)\n",
            "Requirement already satisfied: MarkupSafe>=0.9.2 in c:\\program files\\python38\\lib\\site-packages (from Mako->alembic>=1.5.0->optuna>=2.4.0->optuna-dashboard) (2.1.1)\n",
            "Installing collected packages: bottle, optuna-dashboard\n",
            "Successfully installed bottle-0.12.25 optuna-dashboard-0.9.1\n"
          ]
        },
        {
          "name": "stderr",
          "output_type": "stream",
          "text": [
            "\n",
            "[notice] A new release of pip is available: 23.0.1 -> 23.1.2\n",
            "[notice] To update, run: python.exe -m pip install --upgrade pip\n"
          ]
        }
      ],
      "source": [
        "!pip install tensorboardX\n",
        "!pip install pyglet==1.5.1\n",
        "!pip install torchsummary\n",
        "!pip install optuna\n",
        "!pip install optuna-dashboard"
      ]
    },
    {
      "cell_type": "code",
      "execution_count": 15,
      "metadata": {
        "colab": {
          "base_uri": "https://localhost:8080/"
        },
        "id": "cbigCoubxceQ",
        "outputId": "da980382-8858-44f8-e876-39872e99ac1f"
      },
      "outputs": [
        {
          "name": "stdout",
          "output_type": "stream",
          "text": [
            "Defaulting to user installation because normal site-packages is not writeable\n",
            "Requirement already satisfied: setuptools==65.5.1 in c:\\users\\user\\appdata\\roaming\\python\\python38\\site-packages (65.5.1)\n"
          ]
        },
        {
          "name": "stderr",
          "output_type": "stream",
          "text": [
            "\n",
            "[notice] A new release of pip is available: 23.0.1 -> 23.1.2\n",
            "[notice] To update, run: python.exe -m pip install --upgrade pip\n"
          ]
        },
        {
          "name": "stdout",
          "output_type": "stream",
          "text": [
            "Defaulting to user installation because normal site-packages is not writeable\n",
            "Requirement already satisfied: gym==0.21.0 in c:\\users\\user\\appdata\\roaming\\python\\python38\\site-packages (0.21.0)\n",
            "Requirement already satisfied: numpy>=1.18.0 in c:\\program files\\python38\\lib\\site-packages (from gym==0.21.0) (1.23.1)\n",
            "Requirement already satisfied: cloudpickle>=1.2.0 in c:\\users\\user\\appdata\\roaming\\python\\python38\\site-packages (from gym==0.21.0) (2.2.1)\n"
          ]
        },
        {
          "name": "stderr",
          "output_type": "stream",
          "text": [
            "\n",
            "[notice] A new release of pip is available: 23.0.1 -> 23.1.2\n",
            "[notice] To update, run: python.exe -m pip install --upgrade pip\n"
          ]
        },
        {
          "name": "stdout",
          "output_type": "stream",
          "text": [
            "Defaulting to user installation because normal site-packages is not writeable\n",
            "Requirement already satisfied: stable-baselines3[extra] in c:\\users\\user\\appdata\\roaming\\python\\python38\\site-packages (1.7.0)\n",
            "Requirement already satisfied: gym==0.21 in c:\\users\\user\\appdata\\roaming\\python\\python38\\site-packages (from stable-baselines3[extra]) (0.21.0)\n",
            "Requirement already satisfied: torch>=1.11 in c:\\users\\user\\appdata\\roaming\\python\\python38\\site-packages (from stable-baselines3[extra]) (2.0.0)\n",
            "Requirement already satisfied: matplotlib in c:\\program files\\python38\\lib\\site-packages (from stable-baselines3[extra]) (3.5.2)\n",
            "Requirement already satisfied: numpy in c:\\program files\\python38\\lib\\site-packages (from stable-baselines3[extra]) (1.23.1)\n",
            "Requirement already satisfied: cloudpickle in c:\\users\\user\\appdata\\roaming\\python\\python38\\site-packages (from stable-baselines3[extra]) (2.2.1)\n",
            "Requirement already satisfied: pandas in c:\\program files\\python38\\lib\\site-packages (from stable-baselines3[extra]) (1.5.0)\n",
            "Requirement already satisfied: importlib-metadata~=4.13 in c:\\users\\user\\appdata\\roaming\\python\\python38\\site-packages (from stable-baselines3[extra]) (4.13.0)\n",
            "Requirement already satisfied: ale-py==0.7.4 in c:\\users\\user\\appdata\\roaming\\python\\python38\\site-packages (from stable-baselines3[extra]) (0.7.4)\n",
            "Requirement already satisfied: pillow in c:\\program files\\python38\\lib\\site-packages (from stable-baselines3[extra]) (9.2.0)\n",
            "Requirement already satisfied: rich in c:\\users\\user\\appdata\\roaming\\python\\python38\\site-packages (from stable-baselines3[extra]) (13.3.3)\n",
            "Requirement already satisfied: tensorboard>=2.9.1 in c:\\users\\user\\appdata\\roaming\\python\\python38\\site-packages (from stable-baselines3[extra]) (2.12.1)\n",
            "Requirement already satisfied: tqdm in c:\\users\\user\\appdata\\roaming\\python\\python38\\site-packages (from stable-baselines3[extra]) (4.65.0)\n",
            "Requirement already satisfied: opencv-python in c:\\users\\user\\appdata\\roaming\\python\\python38\\site-packages (from stable-baselines3[extra]) (4.6.0.66)\n",
            "Requirement already satisfied: autorom[accept-rom-license]~=0.4.2 in c:\\users\\user\\appdata\\roaming\\python\\python38\\site-packages (from stable-baselines3[extra]) (0.4.2)\n",
            "Requirement already satisfied: psutil in c:\\program files\\python38\\lib\\site-packages (from stable-baselines3[extra]) (5.9.1)\n",
            "Requirement already satisfied: importlib-resources in c:\\program files\\python38\\lib\\site-packages (from ale-py==0.7.4->stable-baselines3[extra]) (5.9.0)\n",
            "Requirement already satisfied: requests in c:\\program files\\python38\\lib\\site-packages (from autorom[accept-rom-license]~=0.4.2->stable-baselines3[extra]) (2.28.1)\n",
            "Requirement already satisfied: click in c:\\users\\user\\appdata\\roaming\\python\\python38\\site-packages (from autorom[accept-rom-license]~=0.4.2->stable-baselines3[extra]) (8.1.3)\n",
            "Requirement already satisfied: AutoROM.accept-rom-license in c:\\users\\user\\appdata\\roaming\\python\\python38\\site-packages (from autorom[accept-rom-license]~=0.4.2->stable-baselines3[extra]) (0.6.0)\n",
            "Requirement already satisfied: zipp>=0.5 in c:\\program files\\python38\\lib\\site-packages (from importlib-metadata~=4.13->stable-baselines3[extra]) (3.8.1)\n",
            "Requirement already satisfied: tensorboard-data-server<0.8.0,>=0.7.0 in c:\\users\\user\\appdata\\roaming\\python\\python38\\site-packages (from tensorboard>=2.9.1->stable-baselines3[extra]) (0.7.0)\n",
            "Requirement already satisfied: google-auth<3,>=1.6.3 in c:\\users\\user\\appdata\\roaming\\python\\python38\\site-packages (from tensorboard>=2.9.1->stable-baselines3[extra]) (2.17.1)\n",
            "Requirement already satisfied: werkzeug>=1.0.1 in c:\\users\\user\\appdata\\roaming\\python\\python38\\site-packages (from tensorboard>=2.9.1->stable-baselines3[extra]) (2.2.3)\n",
            "Requirement already satisfied: tensorboard-plugin-wit>=1.6.0 in c:\\users\\user\\appdata\\roaming\\python\\python38\\site-packages (from tensorboard>=2.9.1->stable-baselines3[extra]) (1.8.1)\n",
            "Requirement already satisfied: protobuf>=3.19.6 in c:\\users\\user\\appdata\\roaming\\python\\python38\\site-packages (from tensorboard>=2.9.1->stable-baselines3[extra]) (3.20.3)\n",
            "Requirement already satisfied: google-auth-oauthlib<1.1,>=0.5 in c:\\users\\user\\appdata\\roaming\\python\\python38\\site-packages (from tensorboard>=2.9.1->stable-baselines3[extra]) (1.0.0)\n",
            "Requirement already satisfied: markdown>=2.6.8 in c:\\users\\user\\appdata\\roaming\\python\\python38\\site-packages (from tensorboard>=2.9.1->stable-baselines3[extra]) (3.4.3)\n",
            "Requirement already satisfied: grpcio>=1.48.2 in c:\\users\\user\\appdata\\roaming\\python\\python38\\site-packages (from tensorboard>=2.9.1->stable-baselines3[extra]) (1.53.0)\n",
            "Requirement already satisfied: wheel>=0.26 in c:\\program files\\python38\\lib\\site-packages (from tensorboard>=2.9.1->stable-baselines3[extra]) (0.37.1)\n",
            "Requirement already satisfied: absl-py>=0.4 in c:\\users\\user\\appdata\\roaming\\python\\python38\\site-packages (from tensorboard>=2.9.1->stable-baselines3[extra]) (1.4.0)\n",
            "Requirement already satisfied: setuptools>=41.0.0 in c:\\users\\user\\appdata\\roaming\\python\\python38\\site-packages (from tensorboard>=2.9.1->stable-baselines3[extra]) (65.5.1)\n",
            "Requirement already satisfied: filelock in c:\\users\\user\\appdata\\roaming\\python\\python38\\site-packages (from torch>=1.11->stable-baselines3[extra]) (3.10.7)\n",
            "Requirement already satisfied: sympy in c:\\users\\user\\appdata\\roaming\\python\\python38\\site-packages (from torch>=1.11->stable-baselines3[extra]) (1.11.1)\n",
            "Requirement already satisfied: typing-extensions in c:\\users\\user\\appdata\\roaming\\python\\python38\\site-packages (from torch>=1.11->stable-baselines3[extra]) (4.5.0)\n",
            "Requirement already satisfied: jinja2 in c:\\program files\\python38\\lib\\site-packages (from torch>=1.11->stable-baselines3[extra]) (3.1.2)\n",
            "Requirement already satisfied: networkx in c:\\users\\user\\appdata\\roaming\\python\\python38\\site-packages (from torch>=1.11->stable-baselines3[extra]) (3.0)\n",
            "Requirement already satisfied: packaging>=20.0 in c:\\program files\\python38\\lib\\site-packages (from matplotlib->stable-baselines3[extra]) (21.3)\n",
            "Requirement already satisfied: python-dateutil>=2.7 in c:\\program files\\python38\\lib\\site-packages (from matplotlib->stable-baselines3[extra]) (2.8.2)\n",
            "Requirement already satisfied: fonttools>=4.22.0 in c:\\program files\\python38\\lib\\site-packages (from matplotlib->stable-baselines3[extra]) (4.34.4)\n",
            "Requirement already satisfied: pyparsing>=2.2.1 in c:\\program files\\python38\\lib\\site-packages (from matplotlib->stable-baselines3[extra]) (3.0.9)\n",
            "Requirement already satisfied: cycler>=0.10 in c:\\program files\\python38\\lib\\site-packages (from matplotlib->stable-baselines3[extra]) (0.11.0)\n",
            "Requirement already satisfied: kiwisolver>=1.0.1 in c:\\program files\\python38\\lib\\site-packages (from matplotlib->stable-baselines3[extra]) (1.4.4)\n",
            "Requirement already satisfied: pytz>=2020.1 in c:\\program files\\python38\\lib\\site-packages (from pandas->stable-baselines3[extra]) (2022.2)\n",
            "Requirement already satisfied: pygments<3.0.0,>=2.13.0 in c:\\users\\user\\appdata\\roaming\\python\\python38\\site-packages (from rich->stable-baselines3[extra]) (2.14.0)\n",
            "Requirement already satisfied: markdown-it-py<3.0.0,>=2.2.0 in c:\\users\\user\\appdata\\roaming\\python\\python38\\site-packages (from rich->stable-baselines3[extra]) (2.2.0)\n",
            "Requirement already satisfied: colorama in c:\\program files\\python38\\lib\\site-packages (from tqdm->stable-baselines3[extra]) (0.4.5)\n",
            "Requirement already satisfied: cachetools<6.0,>=2.0.0 in c:\\users\\user\\appdata\\roaming\\python\\python38\\site-packages (from google-auth<3,>=1.6.3->tensorboard>=2.9.1->stable-baselines3[extra]) (5.3.0)\n",
            "Requirement already satisfied: six>=1.9.0 in c:\\program files\\python38\\lib\\site-packages (from google-auth<3,>=1.6.3->tensorboard>=2.9.1->stable-baselines3[extra]) (1.16.0)\n",
            "Requirement already satisfied: pyasn1-modules>=0.2.1 in c:\\users\\user\\appdata\\roaming\\python\\python38\\site-packages (from google-auth<3,>=1.6.3->tensorboard>=2.9.1->stable-baselines3[extra]) (0.2.8)\n",
            "Requirement already satisfied: rsa<5,>=3.1.4 in c:\\users\\user\\appdata\\roaming\\python\\python38\\site-packages (from google-auth<3,>=1.6.3->tensorboard>=2.9.1->stable-baselines3[extra]) (4.9)\n",
            "Requirement already satisfied: requests-oauthlib>=0.7.0 in c:\\users\\user\\appdata\\roaming\\python\\python38\\site-packages (from google-auth-oauthlib<1.1,>=0.5->tensorboard>=2.9.1->stable-baselines3[extra]) (1.3.1)\n",
            "Requirement already satisfied: mdurl~=0.1 in c:\\users\\user\\appdata\\roaming\\python\\python38\\site-packages (from markdown-it-py<3.0.0,>=2.2.0->rich->stable-baselines3[extra]) (0.1.2)\n",
            "Requirement already satisfied: urllib3<1.27,>=1.21.1 in c:\\program files\\python38\\lib\\site-packages (from requests->autorom[accept-rom-license]~=0.4.2->stable-baselines3[extra]) (1.26.11)\n",
            "Requirement already satisfied: charset-normalizer<3,>=2 in c:\\program files\\python38\\lib\\site-packages (from requests->autorom[accept-rom-license]~=0.4.2->stable-baselines3[extra]) (2.1.0)\n",
            "Requirement already satisfied: certifi>=2017.4.17 in c:\\program files\\python38\\lib\\site-packages (from requests->autorom[accept-rom-license]~=0.4.2->stable-baselines3[extra]) (2022.6.15)\n",
            "Requirement already satisfied: idna<4,>=2.5 in c:\\program files\\python38\\lib\\site-packages (from requests->autorom[accept-rom-license]~=0.4.2->stable-baselines3[extra]) (3.3)\n",
            "Requirement already satisfied: MarkupSafe>=2.1.1 in c:\\program files\\python38\\lib\\site-packages (from werkzeug>=1.0.1->tensorboard>=2.9.1->stable-baselines3[extra]) (2.1.1)\n",
            "Requirement already satisfied: libtorrent in c:\\users\\user\\appdata\\roaming\\python\\python38\\site-packages (from AutoROM.accept-rom-license->autorom[accept-rom-license]~=0.4.2->stable-baselines3[extra]) (2.0.7)\n",
            "Requirement already satisfied: mpmath>=0.19 in c:\\users\\user\\appdata\\roaming\\python\\python38\\site-packages (from sympy->torch>=1.11->stable-baselines3[extra]) (1.3.0)\n",
            "Requirement already satisfied: pyasn1<0.5.0,>=0.4.6 in c:\\users\\user\\appdata\\roaming\\python\\python38\\site-packages (from pyasn1-modules>=0.2.1->google-auth<3,>=1.6.3->tensorboard>=2.9.1->stable-baselines3[extra]) (0.4.8)\n",
            "Requirement already satisfied: oauthlib>=3.0.0 in c:\\users\\user\\appdata\\roaming\\python\\python38\\site-packages (from requests-oauthlib>=0.7.0->google-auth-oauthlib<1.1,>=0.5->tensorboard>=2.9.1->stable-baselines3[extra]) (3.2.2)\n"
          ]
        },
        {
          "name": "stderr",
          "output_type": "stream",
          "text": [
            "\n",
            "[notice] A new release of pip is available: 23.0.1 -> 23.1.2\n",
            "[notice] To update, run: python.exe -m pip install --upgrade pip\n"
          ]
        }
      ],
      "source": [
        "!pip install setuptools==65.5.1\n",
        "!pip install gym==0.21.0\n",
        "!pip install stable-baselines3[extra]"
      ]
    },
    {
      "cell_type": "code",
      "execution_count": 16,
      "metadata": {
        "colab": {
          "base_uri": "https://localhost:8080/"
        },
        "id": "Mc0SC4CrMXSk",
        "outputId": "72a96155-d3d3-4f64-e143-6913e97a2d07"
      },
      "outputs": [
        {
          "name": "stdout",
          "output_type": "stream",
          "text": [
            "Defaulting to user installation because normal site-packages is not writeable\n",
            "Requirement already satisfied: pyvirtualdisplay in c:\\users\\user\\appdata\\roaming\\python\\python38\\site-packages (3.0)\n"
          ]
        },
        {
          "name": "stderr",
          "output_type": "stream",
          "text": [
            "\n",
            "[notice] A new release of pip is available: 23.0.1 -> 23.1.2\n",
            "[notice] To update, run: python.exe -m pip install --upgrade pip\n"
          ]
        }
      ],
      "source": [
        "!pip install pyvirtualdisplay\n",
        "# !sudo apt-get install -y xvfb"
      ]
    },
    {
      "cell_type": "code",
      "execution_count": 18,
      "metadata": {
        "colab": {
          "base_uri": "https://localhost:8080/"
        },
        "id": "y1NHYcVNMQaW",
        "outputId": "48e3c777-fc26-4b63-eba1-6e11e47aa30c"
      },
      "outputs": [
        {
          "ename": "FileNotFoundError",
          "evalue": "[WinError 2] The system cannot find the file specified",
          "output_type": "error",
          "traceback": [
            "\u001b[1;31m---------------------------------------------------------------------------\u001b[0m",
            "\u001b[1;31mFileNotFoundError\u001b[0m                         Traceback (most recent call last)",
            "\u001b[1;32mc:\\Users\\User\\OneDrive\\Documents\\GitHub\\AtariGameMaster\\Tetris_Simplified.ipynb Cell 6\u001b[0m in \u001b[0;36m<cell line: 3>\u001b[1;34m()\u001b[0m\n\u001b[0;32m      <a href='vscode-notebook-cell:/c%3A/Users/User/OneDrive/Documents/GitHub/AtariGameMaster/Tetris_Simplified.ipynb#W5sZmlsZQ%3D%3D?line=0'>1</a>\u001b[0m \u001b[39mfrom\u001b[39;00m \u001b[39mpyvirtualdisplay\u001b[39;00m \u001b[39mimport\u001b[39;00m Display\n\u001b[1;32m----> <a href='vscode-notebook-cell:/c%3A/Users/User/OneDrive/Documents/GitHub/AtariGameMaster/Tetris_Simplified.ipynb#W5sZmlsZQ%3D%3D?line=2'>3</a>\u001b[0m virtual_display \u001b[39m=\u001b[39m Display(visible\u001b[39m=\u001b[39;49m\u001b[39m0\u001b[39;49m, size\u001b[39m=\u001b[39;49m(\u001b[39m1024\u001b[39;49m, \u001b[39m768\u001b[39;49m))\n\u001b[0;32m      <a href='vscode-notebook-cell:/c%3A/Users/User/OneDrive/Documents/GitHub/AtariGameMaster/Tetris_Simplified.ipynb#W5sZmlsZQ%3D%3D?line=3'>4</a>\u001b[0m virtual_display\u001b[39m.\u001b[39mstart()\n",
            "File \u001b[1;32m~\\AppData\\Roaming\\Python\\Python38\\site-packages\\pyvirtualdisplay\\display.py:54\u001b[0m, in \u001b[0;36mDisplay.__init__\u001b[1;34m(self, backend, visible, size, color_depth, bgcolor, use_xauth, retries, extra_args, manage_global_env, **kwargs)\u001b[0m\n\u001b[0;32m     51\u001b[0m \u001b[39mif\u001b[39;00m \u001b[39mnot\u001b[39;00m \u001b[39mcls\u001b[39m:\n\u001b[0;32m     52\u001b[0m     \u001b[39mraise\u001b[39;00m \u001b[39mValueError\u001b[39;00m(\u001b[39m\"\u001b[39m\u001b[39munknown backend: \u001b[39m\u001b[39m%s\u001b[39;00m\u001b[39m\"\u001b[39m \u001b[39m%\u001b[39m \u001b[39mself\u001b[39m\u001b[39m.\u001b[39m_backend)\n\u001b[1;32m---> 54\u001b[0m \u001b[39mself\u001b[39m\u001b[39m.\u001b[39m_obj \u001b[39m=\u001b[39m \u001b[39mcls\u001b[39;49m(\n\u001b[0;32m     55\u001b[0m     size\u001b[39m=\u001b[39;49msize,\n\u001b[0;32m     56\u001b[0m     color_depth\u001b[39m=\u001b[39;49mcolor_depth,\n\u001b[0;32m     57\u001b[0m     bgcolor\u001b[39m=\u001b[39;49mbgcolor,\n\u001b[0;32m     58\u001b[0m     retries\u001b[39m=\u001b[39;49mretries,\n\u001b[0;32m     59\u001b[0m     use_xauth\u001b[39m=\u001b[39;49muse_xauth,\n\u001b[0;32m     60\u001b[0m     \u001b[39m# check_startup=check_startup,\u001b[39;49;00m\n\u001b[0;32m     61\u001b[0m     extra_args\u001b[39m=\u001b[39;49mextra_args,\n\u001b[0;32m     62\u001b[0m     manage_global_env\u001b[39m=\u001b[39;49mmanage_global_env,\n\u001b[0;32m     63\u001b[0m     \u001b[39m*\u001b[39;49m\u001b[39m*\u001b[39;49mkwargs\n\u001b[0;32m     64\u001b[0m )\n",
            "File \u001b[1;32m~\\AppData\\Roaming\\Python\\Python38\\site-packages\\pyvirtualdisplay\\xvfb.py:44\u001b[0m, in \u001b[0;36mXvfbDisplay.__init__\u001b[1;34m(self, size, color_depth, bgcolor, use_xauth, fbdir, dpi, retries, extra_args, manage_global_env)\u001b[0m\n\u001b[0;32m     41\u001b[0m \u001b[39mself\u001b[39m\u001b[39m.\u001b[39m_fbdir \u001b[39m=\u001b[39m fbdir\n\u001b[0;32m     42\u001b[0m \u001b[39mself\u001b[39m\u001b[39m.\u001b[39m_dpi \u001b[39m=\u001b[39m dpi\n\u001b[1;32m---> 44\u001b[0m AbstractDisplay\u001b[39m.\u001b[39;49m\u001b[39m__init__\u001b[39;49m(\n\u001b[0;32m     45\u001b[0m     \u001b[39mself\u001b[39;49m,\n\u001b[0;32m     46\u001b[0m     PROGRAM,\n\u001b[0;32m     47\u001b[0m     use_xauth\u001b[39m=\u001b[39;49muse_xauth,\n\u001b[0;32m     48\u001b[0m     retries\u001b[39m=\u001b[39;49mretries,\n\u001b[0;32m     49\u001b[0m     extra_args\u001b[39m=\u001b[39;49mextra_args,\n\u001b[0;32m     50\u001b[0m     manage_global_env\u001b[39m=\u001b[39;49mmanage_global_env,\n\u001b[0;32m     51\u001b[0m )\n",
            "File \u001b[1;32m~\\AppData\\Roaming\\Python\\Python38\\site-packages\\pyvirtualdisplay\\abstractdisplay.py:85\u001b[0m, in \u001b[0;36mAbstractDisplay.__init__\u001b[1;34m(self, program, use_xauth, retries, extra_args, manage_global_env)\u001b[0m\n\u001b[0;32m     82\u001b[0m \u001b[39mself\u001b[39m\u001b[39m.\u001b[39m_pipe_wfd \u001b[39m=\u001b[39m \u001b[39mNone\u001b[39;00m\n\u001b[0;32m     83\u001b[0m \u001b[39mself\u001b[39m\u001b[39m.\u001b[39m_retries_current \u001b[39m=\u001b[39m \u001b[39m0\u001b[39m\n\u001b[1;32m---> 85\u001b[0m helptext \u001b[39m=\u001b[39m get_helptext(program)\n\u001b[0;32m     86\u001b[0m \u001b[39mself\u001b[39m\u001b[39m.\u001b[39m_has_displayfd \u001b[39m=\u001b[39m \u001b[39m\"\u001b[39m\u001b[39m-displayfd\u001b[39m\u001b[39m\"\u001b[39m \u001b[39min\u001b[39;00m helptext\n\u001b[0;32m     87\u001b[0m \u001b[39mif\u001b[39;00m \u001b[39mnot\u001b[39;00m \u001b[39mself\u001b[39m\u001b[39m.\u001b[39m_has_displayfd:\n",
            "File \u001b[1;32m~\\AppData\\Roaming\\Python\\Python38\\site-packages\\pyvirtualdisplay\\util.py:13\u001b[0m, in \u001b[0;36mget_helptext\u001b[1;34m(program)\u001b[0m\n\u001b[0;32m      6\u001b[0m cmd \u001b[39m=\u001b[39m [program, \u001b[39m\"\u001b[39m\u001b[39m-help\u001b[39m\u001b[39m\"\u001b[39m]\n\u001b[0;32m      8\u001b[0m \u001b[39m# py3.7+\u001b[39;00m\n\u001b[0;32m      9\u001b[0m \u001b[39m# p = subprocess.run(cmd, capture_output=True)\u001b[39;00m\n\u001b[0;32m     10\u001b[0m \u001b[39m# stderr = p.stderr\u001b[39;00m\n\u001b[0;32m     11\u001b[0m \n\u001b[0;32m     12\u001b[0m \u001b[39m# py3.6 also\u001b[39;00m\n\u001b[1;32m---> 13\u001b[0m p \u001b[39m=\u001b[39m subprocess\u001b[39m.\u001b[39;49mPopen(\n\u001b[0;32m     14\u001b[0m     cmd,\n\u001b[0;32m     15\u001b[0m     stdout\u001b[39m=\u001b[39;49msubprocess\u001b[39m.\u001b[39;49mPIPE,\n\u001b[0;32m     16\u001b[0m     stderr\u001b[39m=\u001b[39;49msubprocess\u001b[39m.\u001b[39;49mPIPE,\n\u001b[0;32m     17\u001b[0m     shell\u001b[39m=\u001b[39;49m\u001b[39mFalse\u001b[39;49;00m,\n\u001b[0;32m     18\u001b[0m )\n\u001b[0;32m     19\u001b[0m _, stderr \u001b[39m=\u001b[39m p\u001b[39m.\u001b[39mcommunicate()\n\u001b[0;32m     21\u001b[0m helptext \u001b[39m=\u001b[39m stderr\u001b[39m.\u001b[39mdecode(\u001b[39m\"\u001b[39m\u001b[39mutf-8\u001b[39m\u001b[39m\"\u001b[39m, \u001b[39m\"\u001b[39m\u001b[39mignore\u001b[39m\u001b[39m\"\u001b[39m)\n",
            "File \u001b[1;32mc:\\Program Files\\Python38\\lib\\subprocess.py:854\u001b[0m, in \u001b[0;36mPopen.__init__\u001b[1;34m(self, args, bufsize, executable, stdin, stdout, stderr, preexec_fn, close_fds, shell, cwd, env, universal_newlines, startupinfo, creationflags, restore_signals, start_new_session, pass_fds, encoding, errors, text)\u001b[0m\n\u001b[0;32m    850\u001b[0m         \u001b[39mif\u001b[39;00m \u001b[39mself\u001b[39m\u001b[39m.\u001b[39mtext_mode:\n\u001b[0;32m    851\u001b[0m             \u001b[39mself\u001b[39m\u001b[39m.\u001b[39mstderr \u001b[39m=\u001b[39m io\u001b[39m.\u001b[39mTextIOWrapper(\u001b[39mself\u001b[39m\u001b[39m.\u001b[39mstderr,\n\u001b[0;32m    852\u001b[0m                     encoding\u001b[39m=\u001b[39mencoding, errors\u001b[39m=\u001b[39merrors)\n\u001b[1;32m--> 854\u001b[0m     \u001b[39mself\u001b[39;49m\u001b[39m.\u001b[39;49m_execute_child(args, executable, preexec_fn, close_fds,\n\u001b[0;32m    855\u001b[0m                         pass_fds, cwd, env,\n\u001b[0;32m    856\u001b[0m                         startupinfo, creationflags, shell,\n\u001b[0;32m    857\u001b[0m                         p2cread, p2cwrite,\n\u001b[0;32m    858\u001b[0m                         c2pread, c2pwrite,\n\u001b[0;32m    859\u001b[0m                         errread, errwrite,\n\u001b[0;32m    860\u001b[0m                         restore_signals, start_new_session)\n\u001b[0;32m    861\u001b[0m \u001b[39mexcept\u001b[39;00m:\n\u001b[0;32m    862\u001b[0m     \u001b[39m# Cleanup if the child failed starting.\u001b[39;00m\n\u001b[0;32m    863\u001b[0m     \u001b[39mfor\u001b[39;00m f \u001b[39min\u001b[39;00m \u001b[39mfilter\u001b[39m(\u001b[39mNone\u001b[39;00m, (\u001b[39mself\u001b[39m\u001b[39m.\u001b[39mstdin, \u001b[39mself\u001b[39m\u001b[39m.\u001b[39mstdout, \u001b[39mself\u001b[39m\u001b[39m.\u001b[39mstderr)):\n",
            "File \u001b[1;32mc:\\Program Files\\Python38\\lib\\subprocess.py:1307\u001b[0m, in \u001b[0;36mPopen._execute_child\u001b[1;34m(self, args, executable, preexec_fn, close_fds, pass_fds, cwd, env, startupinfo, creationflags, shell, p2cread, p2cwrite, c2pread, c2pwrite, errread, errwrite, unused_restore_signals, unused_start_new_session)\u001b[0m\n\u001b[0;32m   1305\u001b[0m \u001b[39m# Start the process\u001b[39;00m\n\u001b[0;32m   1306\u001b[0m \u001b[39mtry\u001b[39;00m:\n\u001b[1;32m-> 1307\u001b[0m     hp, ht, pid, tid \u001b[39m=\u001b[39m _winapi\u001b[39m.\u001b[39;49mCreateProcess(executable, args,\n\u001b[0;32m   1308\u001b[0m                              \u001b[39m# no special security\u001b[39;49;00m\n\u001b[0;32m   1309\u001b[0m                              \u001b[39mNone\u001b[39;49;00m, \u001b[39mNone\u001b[39;49;00m,\n\u001b[0;32m   1310\u001b[0m                              \u001b[39mint\u001b[39;49m(\u001b[39mnot\u001b[39;49;00m close_fds),\n\u001b[0;32m   1311\u001b[0m                              creationflags,\n\u001b[0;32m   1312\u001b[0m                              env,\n\u001b[0;32m   1313\u001b[0m                              cwd,\n\u001b[0;32m   1314\u001b[0m                              startupinfo)\n\u001b[0;32m   1315\u001b[0m \u001b[39mfinally\u001b[39;00m:\n\u001b[0;32m   1316\u001b[0m     \u001b[39m# Child is launched. Close the parent's copy of those pipe\u001b[39;00m\n\u001b[0;32m   1317\u001b[0m     \u001b[39m# handles that only the child should have open.  You need\u001b[39;00m\n\u001b[1;32m   (...)\u001b[0m\n\u001b[0;32m   1320\u001b[0m     \u001b[39m# pipe will not close when the child process exits and the\u001b[39;00m\n\u001b[0;32m   1321\u001b[0m     \u001b[39m# ReadFile will hang.\u001b[39;00m\n\u001b[0;32m   1322\u001b[0m     \u001b[39mself\u001b[39m\u001b[39m.\u001b[39m_close_pipe_fds(p2cread, p2cwrite,\n\u001b[0;32m   1323\u001b[0m                          c2pread, c2pwrite,\n\u001b[0;32m   1324\u001b[0m                          errread, errwrite)\n",
            "\u001b[1;31mFileNotFoundError\u001b[0m: [WinError 2] The system cannot find the file specified"
          ]
        }
      ],
      "source": [
        "from pyvirtualdisplay import Display\n",
        "\n",
        "virtual_display = Display(visible=0, size=(1024, 768))\n",
        "virtual_display.start()"
      ]
    },
    {
      "cell_type": "code",
      "execution_count": 19,
      "metadata": {},
      "outputs": [
        {
          "name": "stdout",
          "output_type": "stream",
          "text": [
            "Wed May  3 13:01:33 2023       \n",
            "+---------------------------------------------------------------------------------------+\n",
            "| NVIDIA-SMI 531.18                 Driver Version: 531.18       CUDA Version: 12.1     |\n",
            "|-----------------------------------------+----------------------+----------------------+\n",
            "| GPU  Name                      TCC/WDDM | Bus-Id        Disp.A | Volatile Uncorr. ECC |\n",
            "| Fan  Temp  Perf            Pwr:Usage/Cap|         Memory-Usage | GPU-Util  Compute M. |\n",
            "|                                         |                      |               MIG M. |\n",
            "|=========================================+======================+======================|\n",
            "|   0  NVIDIA GeForce GTX 1060 6GB   WDDM | 00000000:01:00.0 Off |                  N/A |\n",
            "|  0%   38C    P8                8W / 200W|      0MiB /  6144MiB |      0%      Default |\n",
            "|                                         |                      |                  N/A |\n",
            "+-----------------------------------------+----------------------+----------------------+\n",
            "                                                                                         \n",
            "+---------------------------------------------------------------------------------------+\n",
            "| Processes:                                                                            |\n",
            "|  GPU   GI   CI        PID   Type   Process name                            GPU Memory |\n",
            "|        ID   ID                                                             Usage      |\n",
            "|=======================================================================================|\n",
            "|  No running processes found                                                           |\n",
            "+---------------------------------------------------------------------------------------+\n"
          ]
        }
      ],
      "source": [
        "!nvidia-smi"
      ]
    },
    {
      "cell_type": "markdown",
      "metadata": {
        "id": "kImBr6NFjKIY"
      },
      "source": [
        "## Training"
      ]
    },
    {
      "cell_type": "code",
      "execution_count": 1,
      "metadata": {},
      "outputs": [],
      "source": [
        "import sys\n",
        "import os\n",
        "\n",
        "# Get the absolute path to the parent directory of gym-tetris\n",
        "gym_tetris_parent_path = os.path.abspath(os.path.join('..', 'gym-tetris'))\n",
        "\n",
        "# Append the path to the sys.path\n",
        "sys.path.append(gym_tetris_parent_path)"
      ]
    },
    {
      "cell_type": "code",
      "execution_count": 2,
      "metadata": {
        "id": "TidRAkGEU0Wl"
      },
      "outputs": [],
      "source": [
        "import os\n",
        "import random\n",
        "import time\n",
        "from distutils.util import strtobool\n",
        "\n",
        "import gym\n",
        "import numpy as np\n",
        "import torch\n",
        "import torch.nn as nn\n",
        "import torch.nn.functional as F\n",
        "import torch.optim as optim\n",
        "from stable_baselines3.common.buffers import ReplayBuffer\n",
        "from torch.utils.tensorboard import SummaryWriter\n",
        "\n",
        "from nes_py.wrappers import JoypadSpace\n",
        "import gym_tetris\n",
        "from gym_tetris.actions import MOVEMENT\n",
        "\n",
        "from torchsummary import summary"
      ]
    },
    {
      "cell_type": "code",
      "execution_count": null,
      "metadata": {},
      "outputs": [],
      "source": [
        "# import importlib\n",
        "# importlib.reload(gym_tetris)\n",
        "# importlib.reload(gym_tetris.actions)"
      ]
    },
    {
      "cell_type": "code",
      "execution_count": 11,
      "metadata": {
        "id": "H-rvKojYAuK3"
      },
      "outputs": [],
      "source": [
        "class QNetwork(nn.Module):\n",
        "    def __init__(self, actions_num):\n",
        "        super().__init__()\n",
        "        self.network =  nn.Sequential(\n",
        "            nn.Conv2d(1, 32, 8, stride=4),\n",
        "            nn.ReLU(),\n",
        "            nn.Conv2d(32, 64, 4, stride=2),\n",
        "            nn.ReLU(),\n",
        "            nn.Conv2d(64, 64, 3, stride=1),\n",
        "            nn.ReLU(),\n",
        "            nn.Flatten(),\n",
        "            nn.Dropout(0.2),\n",
        "            nn.Linear(3136, 512),\n",
        "            nn.Dropout(0.2),\n",
        "            nn.ReLU(),\n",
        "            nn.Linear(512, actions_num),\n",
        "        )\n",
        "\n",
        "    def forward(self, x):\n",
        "        return self.network(x / 255.0)\n",
        "\n",
        "\n",
        "def linear_schedule(start_e: float, end_e: float, duration: int, t: int):\n",
        "    slope = (end_e - start_e) / duration\n",
        "    return max(slope * t + start_e, end_e)"
      ]
    },
    {
      "attachments": {},
      "cell_type": "markdown",
      "metadata": {
        "id": "8KbPbg5G8_sO"
      },
      "source": [
        "### Training"
      ]
    },
    {
      "cell_type": "code",
      "execution_count": 4,
      "metadata": {
        "id": "ZCEBIoO8pd9D"
      },
      "outputs": [],
      "source": [
        "# Making an environment\n",
        "def get_env(env_id, seed, capture_video, run_name, video_freq=100):\n",
        "    env = gym_tetris.make(env_id)\n",
        "    env = JoypadSpace(env, MOVEMENT)\n",
        "    env = gym.wrappers.RecordEpisodeStatistics(env)\n",
        "    if capture_video:\n",
        "        env = gym.wrappers.RecordVideo(env, f\"videos/{run_name}\", episode_trigger=lambda ep_num: ep_num % video_freq == 0)\n",
        "            \n",
        "    env = gym.wrappers.ResizeObservation(env, (84, 84))\n",
        "    env = gym.wrappers.GrayScaleObservation(env)\n",
        "    env = gym.wrappers.FrameStack(env, 1)\n",
        "    env.seed(seed)\n",
        "    env.action_space.seed(seed)\n",
        "    env.observation_space.seed(seed)\n",
        "    return env"
      ]
    },
    {
      "cell_type": "code",
      "execution_count": 5,
      "metadata": {},
      "outputs": [],
      "source": [
        "# Evaluation\n",
        "def evaluate(\n",
        "    model: torch.nn.Module,\n",
        "    env_id: str,\n",
        "    eval_episodes: int,\n",
        "    run_name: str,\n",
        "    seed: int,\n",
        "    device: torch.device = torch.device(\"cpu\"),\n",
        "    capture_video: bool = True,\n",
        "    video_frequency: int = 1\n",
        "):\n",
        "    env = get_env(env_id, seed, capture_video, run_name, video_frequency) \n",
        "    \n",
        "    model.eval()\n",
        "\n",
        "    obs = env.reset()\n",
        "    scores = []\n",
        "    while len(scores) < eval_episodes:\n",
        "        q_values = model(torch.Tensor(obs).to(device))\n",
        "        action = torch.argmax(q_values, dim=1).cpu().numpy()\n",
        "\n",
        "        next_obs, _, _, info = env.step(action)\n",
        "\n",
        "        if \"episode\" in info.keys():\n",
        "            print(f\"eval_episode={len(scores)}, score={info['score']}, episodic_return={info['episode']['r']}\")\n",
        "            scores += [info[\"score\"]]\n",
        "\n",
        "        obs = next_obs\n",
        "\n",
        "    env.close()\n",
        "    return scores"
      ]
    },
    {
      "cell_type": "code",
      "execution_count": 6,
      "metadata": {},
      "outputs": [],
      "source": [
        "# Single env training without optuna - for simplicity\n",
        "def train(args):\n",
        "    run_name = f\"{args.env_id}__{args.exp_name}__{args.seed}__{int(time.time())}\"\n",
        "    prefix = \"\"\n",
        "    \n",
        "    writer = SummaryWriter(f\"runs/{run_name}\")\n",
        "    writer.add_text(\n",
        "        \"hyperparameters\",\n",
        "        \"|param|value|\\n|-|-|\\n%s\" % (\"\\n\".join([f\"|{key}|{value}|\" for key, value in vars(args).items()])),\n",
        "    )\n",
        "\n",
        "    # TRY NOT TO MODIFY: seeding\n",
        "    random.seed(args.seed)\n",
        "    np.random.seed(args.seed)\n",
        "    torch.manual_seed(args.seed)\n",
        "    torch.backends.cudnn.deterministic = args.torch_deterministic\n",
        "\n",
        "    device_name = \"cuda\" if torch.cuda.is_available() and args.cuda else \"cpu\"\n",
        "    device_name = \"mps\" if torch.backends.mps.is_available() and args.mps else device_name\n",
        "    device = torch.device(device_name)\n",
        "\n",
        "    print(\"device_name:\", device_name)\n",
        "\n",
        "    # env setup\n",
        "    env = get_env(args.env_id, args.seed, args.capture_video, run_name, args.video_frequency)\n",
        "    assert isinstance(env.action_space, gym.spaces.Discrete), \"only discrete action space is supported\"\n",
        "\n",
        "    q_network = QNetwork(env.action_space.n).to(device)\n",
        "    optimizer = optim.Adam(q_network.parameters(), lr=args.learning_rate)\n",
        "    target_network = QNetwork(env.action_space.n).to(device)\n",
        "    target_network.load_state_dict(q_network.state_dict())\n",
        "\n",
        "    summary(q_network, input_size=(1, 84, 84), batch_size=args.batch_size, device=device_name)\n",
        "\n",
        "    rb = ReplayBuffer(\n",
        "        args.buffer_size,\n",
        "        env.observation_space,\n",
        "        env.action_space,\n",
        "        device,\n",
        "    )\n",
        "\n",
        "    start_time = time.time()\n",
        "\n",
        "    # TODO: do exploration-exploitation decision per-piece\n",
        "    # piece_cnt = 0\n",
        "    # is_new_piece = False\n",
        "\n",
        "    # TRY NOT TO MODIFY: start the game\n",
        "    obs = env.reset()\n",
        "    for global_step in range(args.total_timesteps):\n",
        "        # ALGO LOGIC: put action logic here\n",
        "        epsilon = linear_schedule(args.start_e, args.end_e, args.exploration_fraction * args.total_timesteps, global_step)\n",
        "        if random.random() < epsilon:\n",
        "            action = np.array([env.single_action_space.sample() for _ in range(env.num_envs)])\n",
        "        else:\n",
        "            q_values = q_network(torch.Tensor(obs).to(device))\n",
        "            action = torch.argmax(q_values, dim=1).cpu().numpy()\n",
        "\n",
        "        # TRY NOT TO MODIFY: execute the game and log data.\n",
        "        next_obs, reward, done, info = env.step(action)\n",
        "\n",
        "        # TRY NOT TO MODIFY: record rewards for plotting purposes\n",
        "        if \"episode\" in info.keys():\n",
        "            print(f\"{prefix}global_step={global_step}, episodic_return={info['episode']['r']}, score={info['score']}\")\n",
        "            writer.add_scalar(\"charts/episodic_return\", info[\"episode\"][\"r\"], global_step)\n",
        "            writer.add_scalar(\"charts/episodic_length\", info[\"episode\"][\"l\"], global_step)\n",
        "            writer.add_scalar(\"charts/epsilon\", epsilon, global_step)\n",
        "            writer.add_scalar(\"charts/score\", info[\"score\"], global_step)\n",
        "\n",
        "        # TRY NOT TO MODIFY: save data to reply buffer; handle `terminal_observation`\n",
        "        real_next_obs = next_obs.copy()\n",
        "\n",
        "        if done:\n",
        "            real_next_obs = info[\"terminal_observation\"]  # Tetris environment does not set a terminal observation.\n",
        "\n",
        "        rb.add(obs, real_next_obs, action, reward, done, info)\n",
        "\n",
        "        # TRY NOT TO MODIFY: CRUCIAL step easy to overlook\n",
        "        obs = next_obs\n",
        "\n",
        "        # ALGO LOGIC: training.\n",
        "        if global_step > args.learning_starts:\n",
        "            if global_step % args.train_frequency == 0:\n",
        "                data = rb.sample(args.batch_size)\n",
        "                with torch.no_grad():\n",
        "                    target_max, _ = target_network(data.next_observations).max(dim=1)\n",
        "                    td_target = data.rewards.flatten() + args.gamma * target_max * (1 - data.dones.flatten())\n",
        "                old_val = q_network(data.observations).gather(1, data.actions).squeeze()\n",
        "                loss = F.mse_loss(td_target, old_val)\n",
        "\n",
        "                if global_step % 100 == 0:\n",
        "                    writer.add_scalar(\"losses/td_loss\", loss, global_step)\n",
        "                    writer.add_scalar(\"losses/q_values\", old_val.mean().item(), global_step)\n",
        "                    writer.add_scalar(\"charts/SPS\", int(global_step / (time.time() - start_time)), global_step)\n",
        "\n",
        "                # optimize the model\n",
        "                optimizer.zero_grad()\n",
        "                loss.backward()\n",
        "                optimizer.step()\n",
        "\n",
        "            # update target network\n",
        "            if global_step % args.target_network_frequency == 0:\n",
        "                for target_network_param, q_network_param in zip(target_network.parameters(), q_network.parameters()):\n",
        "                    target_network_param.data.copy_(\n",
        "                        args.tau * q_network_param.data + (1.0 - args.tau) * target_network_param.data\n",
        "                    )\n",
        "\n",
        "            if global_step % args.backup_frequency == 0:\n",
        "                model_backup_path = f\"runs/{run_name}/{args.exp_name}.backup\"\n",
        "                torch.save(q_network.state_dict(), model_backup_path)\n",
        "\n",
        "    if args.save_model:\n",
        "        model_path = f\"runs/{run_name}/{args.exp_name}.cleanrl_model\"\n",
        "        torch.save(q_network.state_dict(), model_path)\n",
        "        print(f\"{prefix}model saved to {model_path}\")\n",
        "\n",
        "        scores = evaluate(\n",
        "            q_network,\n",
        "            args.env_id,\n",
        "            args.eval_episodes,\n",
        "            run_name=f\"{run_name}-eval\",\n",
        "            Model=QNetwork,\n",
        "            seed=args.seed,\n",
        "            device=device,\n",
        "            capture_video=args.capture_video\n",
        "        )\n",
        "        \n",
        "    env.close()\n",
        "    writer.close()"
      ]
    },
    {
      "attachments": {},
      "cell_type": "markdown",
      "metadata": {
        "id": "jhHGXzJGi-yI"
      },
      "source": [
        "## Main"
      ]
    },
    {
      "cell_type": "code",
      "execution_count": 9,
      "metadata": {
        "id": "a74aYTyfXD3A"
      },
      "outputs": [],
      "source": [
        "# Weeklong args\n",
        "class Args:\n",
        "    def __init__(self):\n",
        "        # Settings\n",
        "        self.exp_name = \"Tetris_DQN\"\n",
        "        self.torch_deterministic = True\n",
        "        self.cuda = True\n",
        "        self.mps = False\n",
        "        self.capture_video = True\n",
        "        self.save_model = True\n",
        "        self.eval_episodes = 4\n",
        "        self.video_frequency = 10\n",
        "\n",
        "        # Hyper-Parameters\n",
        "        self.env_id = \"TetrisA-v0\"\n",
        "        self.seed = 1\n",
        "        self.total_timesteps = 100000\n",
        "        self.learning_rate = 1e-4\n",
        "        self.buffer_size = 20000\n",
        "        self.gamma = 0.99\n",
        "        self.tau = 1.0\n",
        "        self.target_network_frequency = 1000\n",
        "        self.batch_size = 32\n",
        "        self.start_e = 1\n",
        "        self.end_e = 0.1\n",
        "        self.exploration_fraction = 0.5\n",
        "        self.learning_starts = 5000\n",
        "        self.train_frequency = 4"
      ]
    },
    {
      "cell_type": "code",
      "execution_count": 12,
      "metadata": {
        "colab": {
          "base_uri": "https://localhost:8080/"
        },
        "id": "Qm_lId5hUjDm",
        "outputId": "c886e297-b83f-465d-bba7-06f47371cb71"
      },
      "outputs": [
        {
          "name": "stdout",
          "output_type": "stream",
          "text": [
            "device_name: cpu\n",
            "----------------------------------------------------------------\n",
            "        Layer (type)               Output Shape         Param #\n",
            "================================================================\n",
            "            Conv2d-1           [32, 32, 20, 20]           2,080\n",
            "              ReLU-2           [32, 32, 20, 20]               0\n",
            "            Conv2d-3             [32, 64, 9, 9]          32,832\n",
            "              ReLU-4             [32, 64, 9, 9]               0\n",
            "            Conv2d-5             [32, 64, 7, 7]          36,928\n",
            "              ReLU-6             [32, 64, 7, 7]               0\n",
            "           Flatten-7                 [32, 3136]               0\n",
            "           Dropout-8                 [32, 3136]               0\n",
            "            Linear-9                  [32, 512]       1,606,144\n",
            "          Dropout-10                  [32, 512]               0\n",
            "             ReLU-11                  [32, 512]               0\n",
            "           Linear-12                   [32, 12]           6,156\n",
            "================================================================\n",
            "Total params: 1,684,140\n",
            "Trainable params: 1,684,140\n",
            "Non-trainable params: 0\n",
            "----------------------------------------------------------------\n",
            "Input size (MB): 0.86\n",
            "Forward/backward pass size (MB): 12.22\n",
            "Params size (MB): 6.42\n",
            "Estimated Total Size (MB): 19.51\n",
            "----------------------------------------------------------------\n"
          ]
        },
        {
          "ename": "DependencyNotInstalled",
          "evalue": "Found neither the ffmpeg nor avconv executables. On OS X, you can install ffmpeg via `brew install ffmpeg`. On most Ubuntu variants, `sudo apt-get install ffmpeg` should do it. On Ubuntu 14.04, however, you'll need to install avconv with `sudo apt-get install libav-tools`. Alternatively, please install imageio-ffmpeg with `pip install imageio-ffmpeg`",
          "output_type": "error",
          "traceback": [
            "\u001b[1;31m---------------------------------------------------------------------------\u001b[0m",
            "\u001b[1;31mDependencyNotInstalled\u001b[0m                    Traceback (most recent call last)",
            "\u001b[1;32mc:\\Users\\User\\OneDrive\\Documents\\GitHub\\AtariGameMaster\\Tetris_Simplified.ipynb Cell 18\u001b[0m in \u001b[0;36m<cell line: 1>\u001b[1;34m()\u001b[0m\n\u001b[1;32m----> <a href='vscode-notebook-cell:/c%3A/Users/User/OneDrive/Documents/GitHub/AtariGameMaster/Tetris_Simplified.ipynb#X31sZmlsZQ%3D%3D?line=0'>1</a>\u001b[0m train(Args())\n",
            "\u001b[1;32mc:\\Users\\User\\OneDrive\\Documents\\GitHub\\AtariGameMaster\\Tetris_Simplified.ipynb Cell 18\u001b[0m in \u001b[0;36mtrain\u001b[1;34m(args)\u001b[0m\n\u001b[0;32m     <a href='vscode-notebook-cell:/c%3A/Users/User/OneDrive/Documents/GitHub/AtariGameMaster/Tetris_Simplified.ipynb#X31sZmlsZQ%3D%3D?line=41'>42</a>\u001b[0m start_time \u001b[39m=\u001b[39m time\u001b[39m.\u001b[39mtime()\n\u001b[0;32m     <a href='vscode-notebook-cell:/c%3A/Users/User/OneDrive/Documents/GitHub/AtariGameMaster/Tetris_Simplified.ipynb#X31sZmlsZQ%3D%3D?line=43'>44</a>\u001b[0m \u001b[39m# TODO: do exploration-exploitation decision per-piece\u001b[39;00m\n\u001b[0;32m     <a href='vscode-notebook-cell:/c%3A/Users/User/OneDrive/Documents/GitHub/AtariGameMaster/Tetris_Simplified.ipynb#X31sZmlsZQ%3D%3D?line=44'>45</a>\u001b[0m \u001b[39m# piece_cnt = 0\u001b[39;00m\n\u001b[0;32m     <a href='vscode-notebook-cell:/c%3A/Users/User/OneDrive/Documents/GitHub/AtariGameMaster/Tetris_Simplified.ipynb#X31sZmlsZQ%3D%3D?line=45'>46</a>\u001b[0m \u001b[39m# is_new_piece = False\u001b[39;00m\n\u001b[0;32m     <a href='vscode-notebook-cell:/c%3A/Users/User/OneDrive/Documents/GitHub/AtariGameMaster/Tetris_Simplified.ipynb#X31sZmlsZQ%3D%3D?line=46'>47</a>\u001b[0m \n\u001b[0;32m     <a href='vscode-notebook-cell:/c%3A/Users/User/OneDrive/Documents/GitHub/AtariGameMaster/Tetris_Simplified.ipynb#X31sZmlsZQ%3D%3D?line=47'>48</a>\u001b[0m \u001b[39m# TRY NOT TO MODIFY: start the game\u001b[39;00m\n\u001b[1;32m---> <a href='vscode-notebook-cell:/c%3A/Users/User/OneDrive/Documents/GitHub/AtariGameMaster/Tetris_Simplified.ipynb#X31sZmlsZQ%3D%3D?line=48'>49</a>\u001b[0m obs \u001b[39m=\u001b[39m env\u001b[39m.\u001b[39;49mreset()\n\u001b[0;32m     <a href='vscode-notebook-cell:/c%3A/Users/User/OneDrive/Documents/GitHub/AtariGameMaster/Tetris_Simplified.ipynb#X31sZmlsZQ%3D%3D?line=49'>50</a>\u001b[0m \u001b[39mfor\u001b[39;00m global_step \u001b[39min\u001b[39;00m \u001b[39mrange\u001b[39m(args\u001b[39m.\u001b[39mtotal_timesteps):\n\u001b[0;32m     <a href='vscode-notebook-cell:/c%3A/Users/User/OneDrive/Documents/GitHub/AtariGameMaster/Tetris_Simplified.ipynb#X31sZmlsZQ%3D%3D?line=50'>51</a>\u001b[0m     \u001b[39m# ALGO LOGIC: put action logic here\u001b[39;00m\n\u001b[0;32m     <a href='vscode-notebook-cell:/c%3A/Users/User/OneDrive/Documents/GitHub/AtariGameMaster/Tetris_Simplified.ipynb#X31sZmlsZQ%3D%3D?line=51'>52</a>\u001b[0m     epsilon \u001b[39m=\u001b[39m linear_schedule(args\u001b[39m.\u001b[39mstart_e, args\u001b[39m.\u001b[39mend_e, args\u001b[39m.\u001b[39mexploration_fraction \u001b[39m*\u001b[39m args\u001b[39m.\u001b[39mtotal_timesteps, global_step)\n",
            "File \u001b[1;32m~\\AppData\\Roaming\\Python\\Python38\\site-packages\\gym\\wrappers\\frame_stack.py:120\u001b[0m, in \u001b[0;36mFrameStack.reset\u001b[1;34m(self, **kwargs)\u001b[0m\n\u001b[0;32m    119\u001b[0m \u001b[39mdef\u001b[39;00m \u001b[39mreset\u001b[39m(\u001b[39mself\u001b[39m, \u001b[39m*\u001b[39m\u001b[39m*\u001b[39mkwargs):\n\u001b[1;32m--> 120\u001b[0m     observation \u001b[39m=\u001b[39m \u001b[39mself\u001b[39;49m\u001b[39m.\u001b[39;49menv\u001b[39m.\u001b[39;49mreset(\u001b[39m*\u001b[39;49m\u001b[39m*\u001b[39;49mkwargs)\n\u001b[0;32m    121\u001b[0m     [\u001b[39mself\u001b[39m\u001b[39m.\u001b[39mframes\u001b[39m.\u001b[39mappend(observation) \u001b[39mfor\u001b[39;00m _ \u001b[39min\u001b[39;00m \u001b[39mrange\u001b[39m(\u001b[39mself\u001b[39m\u001b[39m.\u001b[39mnum_stack)]\n\u001b[0;32m    122\u001b[0m     \u001b[39mreturn\u001b[39;00m \u001b[39mself\u001b[39m\u001b[39m.\u001b[39mobservation()\n",
            "File \u001b[1;32m~\\AppData\\Roaming\\Python\\Python38\\site-packages\\gym\\core.py:319\u001b[0m, in \u001b[0;36mObservationWrapper.reset\u001b[1;34m(self, **kwargs)\u001b[0m\n\u001b[0;32m    318\u001b[0m \u001b[39mdef\u001b[39;00m \u001b[39mreset\u001b[39m(\u001b[39mself\u001b[39m, \u001b[39m*\u001b[39m\u001b[39m*\u001b[39mkwargs):\n\u001b[1;32m--> 319\u001b[0m     observation \u001b[39m=\u001b[39m \u001b[39mself\u001b[39;49m\u001b[39m.\u001b[39;49menv\u001b[39m.\u001b[39;49mreset(\u001b[39m*\u001b[39;49m\u001b[39m*\u001b[39;49mkwargs)\n\u001b[0;32m    320\u001b[0m     \u001b[39mreturn\u001b[39;00m \u001b[39mself\u001b[39m\u001b[39m.\u001b[39mobservation(observation)\n",
            "File \u001b[1;32m~\\AppData\\Roaming\\Python\\Python38\\site-packages\\gym\\core.py:319\u001b[0m, in \u001b[0;36mObservationWrapper.reset\u001b[1;34m(self, **kwargs)\u001b[0m\n\u001b[0;32m    318\u001b[0m \u001b[39mdef\u001b[39;00m \u001b[39mreset\u001b[39m(\u001b[39mself\u001b[39m, \u001b[39m*\u001b[39m\u001b[39m*\u001b[39mkwargs):\n\u001b[1;32m--> 319\u001b[0m     observation \u001b[39m=\u001b[39m \u001b[39mself\u001b[39;49m\u001b[39m.\u001b[39;49menv\u001b[39m.\u001b[39;49mreset(\u001b[39m*\u001b[39;49m\u001b[39m*\u001b[39;49mkwargs)\n\u001b[0;32m    320\u001b[0m     \u001b[39mreturn\u001b[39;00m \u001b[39mself\u001b[39m\u001b[39m.\u001b[39mobservation(observation)\n",
            "File \u001b[1;32m~\\AppData\\Roaming\\Python\\Python38\\site-packages\\gym\\wrappers\\record_video.py:58\u001b[0m, in \u001b[0;36mRecordVideo.reset\u001b[1;34m(self, **kwargs)\u001b[0m\n\u001b[0;32m     56\u001b[0m observations \u001b[39m=\u001b[39m \u001b[39msuper\u001b[39m(RecordVideo, \u001b[39mself\u001b[39m)\u001b[39m.\u001b[39mreset(\u001b[39m*\u001b[39m\u001b[39m*\u001b[39mkwargs)\n\u001b[0;32m     57\u001b[0m \u001b[39mif\u001b[39;00m \u001b[39mnot\u001b[39;00m \u001b[39mself\u001b[39m\u001b[39m.\u001b[39mrecording \u001b[39mand\u001b[39;00m \u001b[39mself\u001b[39m\u001b[39m.\u001b[39m_video_enabled():\n\u001b[1;32m---> 58\u001b[0m     \u001b[39mself\u001b[39;49m\u001b[39m.\u001b[39;49mstart_video_recorder()\n\u001b[0;32m     59\u001b[0m \u001b[39mreturn\u001b[39;00m observations\n",
            "File \u001b[1;32m~\\AppData\\Roaming\\Python\\Python38\\site-packages\\gym\\wrappers\\record_video.py:75\u001b[0m, in \u001b[0;36mRecordVideo.start_video_recorder\u001b[1;34m(self)\u001b[0m\n\u001b[0;32m     68\u001b[0m base_path \u001b[39m=\u001b[39m os\u001b[39m.\u001b[39mpath\u001b[39m.\u001b[39mjoin(\u001b[39mself\u001b[39m\u001b[39m.\u001b[39mvideo_folder, video_name)\n\u001b[0;32m     69\u001b[0m \u001b[39mself\u001b[39m\u001b[39m.\u001b[39mvideo_recorder \u001b[39m=\u001b[39m video_recorder\u001b[39m.\u001b[39mVideoRecorder(\n\u001b[0;32m     70\u001b[0m     env\u001b[39m=\u001b[39m\u001b[39mself\u001b[39m\u001b[39m.\u001b[39menv,\n\u001b[0;32m     71\u001b[0m     base_path\u001b[39m=\u001b[39mbase_path,\n\u001b[0;32m     72\u001b[0m     metadata\u001b[39m=\u001b[39m{\u001b[39m\"\u001b[39m\u001b[39mstep_id\u001b[39m\u001b[39m\"\u001b[39m: \u001b[39mself\u001b[39m\u001b[39m.\u001b[39mstep_id, \u001b[39m\"\u001b[39m\u001b[39mepisode_id\u001b[39m\u001b[39m\"\u001b[39m: \u001b[39mself\u001b[39m\u001b[39m.\u001b[39mepisode_id},\n\u001b[0;32m     73\u001b[0m )\n\u001b[1;32m---> 75\u001b[0m \u001b[39mself\u001b[39;49m\u001b[39m.\u001b[39;49mvideo_recorder\u001b[39m.\u001b[39;49mcapture_frame()\n\u001b[0;32m     76\u001b[0m \u001b[39mself\u001b[39m\u001b[39m.\u001b[39mrecorded_frames \u001b[39m=\u001b[39m \u001b[39m1\u001b[39m\n\u001b[0;32m     77\u001b[0m \u001b[39mself\u001b[39m\u001b[39m.\u001b[39mrecording \u001b[39m=\u001b[39m \u001b[39mTrue\u001b[39;00m\n",
            "File \u001b[1;32m~\\AppData\\Roaming\\Python\\Python38\\site-packages\\gym\\wrappers\\monitoring\\video_recorder.py:151\u001b[0m, in \u001b[0;36mVideoRecorder.capture_frame\u001b[1;34m(self)\u001b[0m\n\u001b[0;32m    149\u001b[0m     \u001b[39mself\u001b[39m\u001b[39m.\u001b[39m_encode_ansi_frame(frame)\n\u001b[0;32m    150\u001b[0m \u001b[39melse\u001b[39;00m:\n\u001b[1;32m--> 151\u001b[0m     \u001b[39mself\u001b[39;49m\u001b[39m.\u001b[39;49m_encode_image_frame(frame)\n",
            "File \u001b[1;32m~\\AppData\\Roaming\\Python\\Python38\\site-packages\\gym\\wrappers\\monitoring\\video_recorder.py:208\u001b[0m, in \u001b[0;36mVideoRecorder._encode_image_frame\u001b[1;34m(self, frame)\u001b[0m\n\u001b[0;32m    206\u001b[0m \u001b[39mdef\u001b[39;00m \u001b[39m_encode_image_frame\u001b[39m(\u001b[39mself\u001b[39m, frame):\n\u001b[0;32m    207\u001b[0m     \u001b[39mif\u001b[39;00m \u001b[39mnot\u001b[39;00m \u001b[39mself\u001b[39m\u001b[39m.\u001b[39mencoder:\n\u001b[1;32m--> 208\u001b[0m         \u001b[39mself\u001b[39m\u001b[39m.\u001b[39mencoder \u001b[39m=\u001b[39m ImageEncoder(\n\u001b[0;32m    209\u001b[0m             \u001b[39mself\u001b[39;49m\u001b[39m.\u001b[39;49mpath, frame\u001b[39m.\u001b[39;49mshape, \u001b[39mself\u001b[39;49m\u001b[39m.\u001b[39;49mframes_per_sec, \u001b[39mself\u001b[39;49m\u001b[39m.\u001b[39;49moutput_frames_per_sec\n\u001b[0;32m    210\u001b[0m         )\n\u001b[0;32m    211\u001b[0m         \u001b[39mself\u001b[39m\u001b[39m.\u001b[39mmetadata[\u001b[39m\"\u001b[39m\u001b[39mencoder_version\u001b[39m\u001b[39m\"\u001b[39m] \u001b[39m=\u001b[39m \u001b[39mself\u001b[39m\u001b[39m.\u001b[39mencoder\u001b[39m.\u001b[39mversion_info\n\u001b[0;32m    213\u001b[0m     \u001b[39mtry\u001b[39;00m:\n",
            "File \u001b[1;32m~\\AppData\\Roaming\\Python\\Python38\\site-packages\\gym\\wrappers\\monitoring\\video_recorder.py:336\u001b[0m, in \u001b[0;36mImageEncoder.__init__\u001b[1;34m(self, output_path, frame_shape, frames_per_sec, output_frames_per_sec)\u001b[0m\n\u001b[0;32m    334\u001b[0m     \u001b[39mself\u001b[39m\u001b[39m.\u001b[39mbackend \u001b[39m=\u001b[39m imageio_ffmpeg\u001b[39m.\u001b[39mget_ffmpeg_exe()\n\u001b[0;32m    335\u001b[0m \u001b[39melse\u001b[39;00m:\n\u001b[1;32m--> 336\u001b[0m     \u001b[39mraise\u001b[39;00m error\u001b[39m.\u001b[39mDependencyNotInstalled(\n\u001b[0;32m    337\u001b[0m \u001b[39m        \u001b[39m\u001b[39m\"\"\"Found neither the ffmpeg nor avconv executables. On OS X, you can install ffmpeg via `brew install ffmpeg`. On most Ubuntu variants, `sudo apt-get install ffmpeg` should do it. On Ubuntu 14.04, however, you'll need to install avconv with `sudo apt-get install libav-tools`. Alternatively, please install imageio-ffmpeg with `pip install imageio-ffmpeg`\"\"\"\u001b[39;00m\n\u001b[0;32m    338\u001b[0m     )\n\u001b[0;32m    340\u001b[0m \u001b[39mself\u001b[39m\u001b[39m.\u001b[39mstart()\n",
            "\u001b[1;31mDependencyNotInstalled\u001b[0m: Found neither the ffmpeg nor avconv executables. On OS X, you can install ffmpeg via `brew install ffmpeg`. On most Ubuntu variants, `sudo apt-get install ffmpeg` should do it. On Ubuntu 14.04, however, you'll need to install avconv with `sudo apt-get install libav-tools`. Alternatively, please install imageio-ffmpeg with `pip install imageio-ffmpeg`"
          ]
        }
      ],
      "source": [
        "train(Args())"
      ]
    },
    {
      "cell_type": "code",
      "execution_count": null,
      "metadata": {
        "id": "1Q-ZggO-qtbL"
      },
      "outputs": [],
      "source": [
        "%load_ext tensorboard\n",
        "%tensorboard --logdir runs"
      ]
    },
    {
      "cell_type": "code",
      "execution_count": null,
      "metadata": {
        "colab": {
          "base_uri": "https://localhost:8080/"
        },
        "id": "2Nmdj4k4rg_k",
        "outputId": "e3a77d57-8695-4cec-e510-b14164cc0eb1"
      },
      "outputs": [],
      "source": [
        "# !optuna-dashboard sqlite:///db.sqlite3"
      ]
    }
  ],
  "metadata": {
    "accelerator": "GPU",
    "colab": {
      "collapsed_sections": [
        "W1KbrN9Li5i8",
        "ORRWWz8dIqaH"
      ],
      "provenance": []
    },
    "gpuClass": "standard",
    "kernelspec": {
      "display_name": "tetrisenv",
      "language": "python",
      "name": "python3"
    },
    "language_info": {
      "codemirror_mode": {
        "name": "ipython",
        "version": 3
      },
      "file_extension": ".py",
      "mimetype": "text/x-python",
      "name": "python",
      "nbconvert_exporter": "python",
      "pygments_lexer": "ipython3",
      "version": "3.8.1"
    },
    "vscode": {
      "interpreter": {
        "hash": "4a7f40d72114c62e91de8d79ab05a4f10d2c48422b550572d6072f074507511d"
      }
    }
  },
  "nbformat": 4,
  "nbformat_minor": 0
}
