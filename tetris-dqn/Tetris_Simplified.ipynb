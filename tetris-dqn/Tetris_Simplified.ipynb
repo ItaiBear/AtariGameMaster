{
  "cells": [
    {
      "cell_type": "markdown",
      "metadata": {
        "id": "W1KbrN9Li5i8"
      },
      "source": [
        "## Environment Setup"
      ]
    },
    {
      "cell_type": "code",
      "execution_count": null,
      "metadata": {
        "colab": {
          "base_uri": "https://localhost:8080/"
        },
        "id": "LSm_UBPsLzq_",
        "outputId": "39d8ba22-4808-4519-d1ce-388cb794e306"
      },
      "outputs": [],
      "source": [
        "!pip install tensorboardX\n",
        "!pip install pyglet==1.5.1\n",
        "!pip install torchsummary\n",
        "!pip install optuna\n",
        "!pip install optuna-dashboard"
      ]
    },
    {
      "cell_type": "code",
      "execution_count": null,
      "metadata": {
        "colab": {
          "base_uri": "https://localhost:8080/"
        },
        "id": "cbigCoubxceQ",
        "outputId": "da980382-8858-44f8-e876-39872e99ac1f"
      },
      "outputs": [],
      "source": [
        "!pip install setuptools==65.5.1\n",
        "!pip install gym==0.21.0\n",
        "!pip install stable-baselines3[extra]\n",
        "!pip install lz4"
      ]
    },
    {
      "cell_type": "code",
      "execution_count": null,
      "metadata": {
        "colab": {
          "base_uri": "https://localhost:8080/"
        },
        "id": "Mc0SC4CrMXSk",
        "outputId": "72a96155-d3d3-4f64-e143-6913e97a2d07"
      },
      "outputs": [],
      "source": [
        "# !sudo apt-get install -y xvfb\n",
        "!pip install pyvirtualdisplay"
      ]
    },
    {
      "cell_type": "code",
      "execution_count": null,
      "metadata": {},
      "outputs": [],
      "source": [
        "!nvidia-smi"
      ]
    },
    {
      "attachments": {},
      "cell_type": "markdown",
      "metadata": {
        "id": "kImBr6NFjKIY"
      },
      "source": [
        "## Imports"
      ]
    },
    {
      "cell_type": "code",
      "execution_count": 1,
      "metadata": {
        "colab": {
          "base_uri": "https://localhost:8080/"
        },
        "id": "y1NHYcVNMQaW",
        "outputId": "48e3c777-fc26-4b63-eba1-6e11e47aa30c"
      },
      "outputs": [
        {
          "data": {
            "text/plain": [
              "<pyvirtualdisplay.display.Display at 0x7f18906c9c70>"
            ]
          },
          "execution_count": 1,
          "metadata": {},
          "output_type": "execute_result"
        }
      ],
      "source": [
        "from pyvirtualdisplay import Display\n",
        "\n",
        "virtual_display = Display(visible=0, size=(1024, 768))\n",
        "virtual_display.start()"
      ]
    },
    {
      "cell_type": "code",
      "execution_count": 2,
      "metadata": {},
      "outputs": [],
      "source": [
        "import sys\n",
        "import os\n",
        "\n",
        "# Get the absolute path to the parent directory of gym-tetris\n",
        "gym_tetris_parent_path = os.path.abspath(os.path.join('..', 'gym-tetris'))\n",
        "\n",
        "# Append the path to the sys.path\n",
        "sys.path.append(gym_tetris_parent_path)"
      ]
    },
    {
      "cell_type": "code",
      "execution_count": 3,
      "metadata": {
        "id": "TidRAkGEU0Wl"
      },
      "outputs": [
        {
          "name": "stderr",
          "output_type": "stream",
          "text": [
            "/usr/lib/python3/dist-packages/requests/__init__.py:89: RequestsDependencyWarning: urllib3 (1.26.15) or chardet (5.1.0) doesn't match a supported version!\n",
            "  warnings.warn(\"urllib3 ({}) or chardet ({}) doesn't match a supported \"\n"
          ]
        }
      ],
      "source": [
        "import random\n",
        "import time\n",
        "from distutils.util import strtobool\n",
        "\n",
        "import gym\n",
        "import numpy as np\n",
        "import cv2\n",
        "import torch\n",
        "import torch.nn as nn\n",
        "import torch.nn.functional as F\n",
        "import torch.optim as optim\n",
        "from stable_baselines3.common.buffers import ReplayBuffer\n",
        "from torch.utils.tensorboard import SummaryWriter\n",
        "\n",
        "from nes_py.wrappers import JoypadSpace\n",
        "import gym_tetris\n",
        "from gym_tetris.actions import SIMPLE_MOVEMENT\n",
        "\n",
        "from torchsummary import summary"
      ]
    },
    {
      "attachments": {},
      "cell_type": "markdown",
      "metadata": {},
      "source": [
        "## Model"
      ]
    },
    {
      "cell_type": "code",
      "execution_count": 4,
      "metadata": {
        "id": "H-rvKojYAuK3"
      },
      "outputs": [],
      "source": [
        "class QNetwork(nn.Module):\n",
        "    def __init__(self, actions_num, frame_stack=1):\n",
        "        super().__init__()\n",
        "        self.network =  nn.Sequential(\n",
        "            # (frame_stack, 84, 84)\n",
        "            nn.Conv2d(frame_stack, 32, 8, stride=4),\n",
        "            nn.ReLU(),\n",
        "            # (32, 20, 20)\n",
        "            nn.Conv2d(32, 64, 4, stride=2),\n",
        "            nn.ReLU(),\n",
        "            # (64, 9, 9)\n",
        "            nn.Conv2d(64, 64, 3, stride=1),\n",
        "            nn.ReLU(),\n",
        "            # (64, 7, 7)\n",
        "            nn.Flatten(),\n",
        "            # 3136\n",
        "            # nn.Dropout(0.2),\n",
        "            nn.Linear(3136, 512),\n",
        "            # nn.Dropout(0.2),\n",
        "            nn.ReLU(),\n",
        "            nn.Linear(512, actions_num),\n",
        "        )\n",
        "\n",
        "    def forward(self, x):\n",
        "        return self.network(x / 255.0)\n",
        "\n",
        "\n",
        "def linear_schedule(start_e: float, end_e: float, duration: int, t: int):\n",
        "    slope = (end_e - start_e) / duration\n",
        "    return max(slope * t + start_e, end_e)"
      ]
    },
    {
      "attachments": {},
      "cell_type": "markdown",
      "metadata": {
        "id": "8KbPbg5G8_sO"
      },
      "source": [
        "## Training"
      ]
    },
    {
      "cell_type": "code",
      "execution_count": 5,
      "metadata": {},
      "outputs": [],
      "source": [
        "# from collections import deque\n",
        "# class MaxAndSkipEnv(gym.Wrapper):\n",
        "#     def __init__(self, env=None, skip=4):\n",
        "#         super(MaxAndSkipEnv, self).__init__(env)\n",
        "#         self._obs_buffer = deque(maxlen=2)\n",
        "#         self._skip = skip\n",
        "\n",
        "#     def step(self, action):\n",
        "#         total_reward = 0.0\n",
        "#         done = None\n",
        "#         for _ in range(self._skip):\n",
        "#             obs, reward, done, info = self.env.step(action)\n",
        "#             self._obs_buffer.append(obs)\n",
        "#             total_reward += reward\n",
        "#             if done:\n",
        "#                 break\n",
        "#         max_frame = np.max(np.stack(self._obs_buffer), axis=0)\n",
        "#         return max_frame, total_reward, done, info\n",
        "    \n",
        "#     def reset(self):\n",
        "#         self._obs_buffer.clear()\n",
        "#         obs = self.env.reset()\n",
        "#         self._obs_buffer.append(obs)\n",
        "#         return obs"
      ]
    },
    {
      "cell_type": "code",
      "execution_count": 6,
      "metadata": {},
      "outputs": [],
      "source": [
        "class FrameSkipEnv(gym.Wrapper):\n",
        "    def __init__(self, env=None, skip=4, only_first=False):\n",
        "        super(FrameSkipEnv, self).__init__(env)\n",
        "        self._skip = skip\n",
        "        self._only_first = only_first\n",
        "\n",
        "    def step(self, action):\n",
        "        total_reward = 0.0\n",
        "        done = None\n",
        "        for i in range(self._skip):\n",
        "            # Only do the action on the first frame (action 0 is always NOOP)\n",
        "            real_action = 0 if (self._only_first and i > 0) else action\n",
        "            obs, reward, done, info = self.env.step(real_action)\n",
        "            total_reward += reward\n",
        "            if done:\n",
        "                break\n",
        "        return obs, total_reward, done, info\n",
        "    \n",
        "    def reset(self):\n",
        "        obs = self.env.reset()\n",
        "        return obs"
      ]
    },
    {
      "cell_type": "code",
      "execution_count": 7,
      "metadata": {
        "id": "ZCEBIoO8pd9D"
      },
      "outputs": [],
      "source": [
        "BOX = 47, 95, 209, 176\n",
        "# Making an environment\n",
        "def get_env(env_id, seed, capture_video, run_name, video_freq=100, frame_stack=4):\n",
        "    env = gym_tetris.make(env_id)\n",
        "    env = JoypadSpace(env, SIMPLE_MOVEMENT)\n",
        "    env = gym.wrappers.RecordEpisodeStatistics(env)\n",
        "    if capture_video:\n",
        "        env = gym.wrappers.RecordVideo(env, f\"videos/{run_name}\", episode_trigger=lambda ep_num: ep_num % video_freq == 0)\n",
        "    \n",
        "    crop = lambda obs : obs[BOX[0]:BOX[2], BOX[1]:BOX[3], :]\n",
        "    env = gym.wrappers.TransformObservation(env, crop)\n",
        "    env = gym.wrappers.ResizeObservation(env, (84, 84))\n",
        "    env = gym.wrappers.GrayScaleObservation(env)\n",
        "\n",
        "    env = FrameSkipEnv(env, skip=16, only_first=True)\n",
        "    env = gym.wrappers.FrameStack(env, frame_stack, lz4_compress=True)\n",
        "    env = FrameSkipEnv(env, skip=3, only_first=False)\n",
        "\n",
        "    env.seed(seed)\n",
        "    env.action_space.seed(seed)\n",
        "    env.observation_space.seed(seed)\n",
        "    return env"
      ]
    },
    {
      "cell_type": "code",
      "execution_count": 8,
      "metadata": {},
      "outputs": [],
      "source": [
        "# Evaluation\n",
        "def evaluate(\n",
        "    model: torch.nn.Module,\n",
        "    env_id: str,\n",
        "    eval_episodes: int,\n",
        "    run_name: str,\n",
        "    seed: int,\n",
        "    device: torch.device = torch.device(\"cpu\"),\n",
        "    capture_video: bool = True,\n",
        "    video_frequency: int = 1,\n",
        "    frame_stack: int = 1,\n",
        "    epsilon: float = 0.0\n",
        "):\n",
        "    env = get_env(env_id, seed, capture_video, run_name, video_frequency, frame_stack) \n",
        "    \n",
        "    model.eval()\n",
        "\n",
        "    scores = []\n",
        "    for _ in range(eval_episodes):\n",
        "        obs = env.reset()\n",
        "        done = False\n",
        "        while not done:\n",
        "            if random.random() < epsilon:\n",
        "                action = env.action_space.sample()\n",
        "            else:\n",
        "                input = np.expand_dims(np.array(obs), axis=0)\n",
        "                q_values = model(torch.Tensor(input).to(device))\n",
        "                action = int(torch.argmax(q_values))\n",
        "            obs, _, done, info = env.step(action)\n",
        "        \n",
        "        print(f\"eval_episode={len(scores)}, score={info.get('score')}, episodic_return={info.get('episode')['r']}\")\n",
        "        scores.append(info.get(\"score\"))\n",
        "\n",
        "    env.close()\n",
        "    return scores"
      ]
    },
    {
      "cell_type": "code",
      "execution_count": 9,
      "metadata": {},
      "outputs": [],
      "source": [
        "FPS = 1.25\n",
        "INPUT_SIZE = (84,84)\n",
        "# Single env training without optuna - for simplicity\n",
        "def train(args):\n",
        "    run_name = f\"{args.env_id}__{args.exp_name}__{args.seed}__{int(time.time())}\"\n",
        "    prefix = \"\"\n",
        "    \n",
        "    writer = SummaryWriter(f\"runs/{run_name}\")\n",
        "    writer.add_text(\n",
        "        \"hyperparameters\",\n",
        "        \"|param|value|\\n|-|-|\\n%s\" % (\"\\n\".join([f\"|{key}|{value}|\" for key, value in vars(args).items()])),\n",
        "    )\n",
        "\n",
        "    # TRY NOT TO MODIFY: seeding\n",
        "    random.seed(args.seed)\n",
        "    np.random.seed(args.seed)\n",
        "    torch.manual_seed(args.seed)\n",
        "    torch.backends.cudnn.deterministic = args.torch_deterministic\n",
        "\n",
        "    device_name = \"cuda\" if torch.cuda.is_available() and args.cuda else \"cpu\"\n",
        "    device_name = \"mps\" if torch.backends.mps.is_available() and args.mps else device_name\n",
        "    device = torch.device(device_name)\n",
        "\n",
        "    print(\"device_name:\", device_name)\n",
        "\n",
        "    # env setup\n",
        "    env = get_env(args.env_id, args.seed, args.capture_video, run_name, args.video_frequency, args.frame_stack)\n",
        "    assert isinstance(env.action_space, gym.spaces.Discrete), \"only discrete action space is supported\"\n",
        "\n",
        "    q_network = QNetwork(env.action_space.n, args.frame_stack).to(device)\n",
        "    optimizer = optim.Adam(q_network.parameters(), lr=args.learning_rate)\n",
        "    target_network = QNetwork(env.action_space.n, args.frame_stack).to(device)\n",
        "    target_network.load_state_dict(q_network.state_dict())\n",
        "\n",
        "    summary(q_network, input_size=(args.frame_stack, 84, 84), batch_size=args.batch_size, device=device_name)\n",
        "\n",
        "    rb = ReplayBuffer(\n",
        "        args.buffer_size,\n",
        "        env.observation_space,\n",
        "        env.action_space,\n",
        "        device,\n",
        "    )\n",
        "\n",
        "    start_time = time.time()\n",
        "\n",
        "    # Tracks the number of pieces we have played\n",
        "    piece_count = 0\n",
        "    explore = True\n",
        "    info = None\n",
        "\n",
        "    episode_cnt = 0\n",
        "\n",
        "    scores = []\n",
        "    best_mean_score = -1.0\n",
        "\n",
        "    if args.capture_inputs_video:\n",
        "        out = cv2.VideoWriter(f'episode0.mp4', cv2.VideoWriter_fourcc(*'mp4v'), FPS, (INPUT_SIZE[1], INPUT_SIZE[0]), False)\n",
        "\n",
        "    # TRY NOT TO MODIFY: start the game\n",
        "    obs = env.reset()\n",
        "    for global_step in range(args.total_timesteps):\n",
        "        \n",
        "        if args.capture_inputs_video and (episode_cnt % args.video_frequency == 0):\n",
        "            img = np.array(obs).astype('uint8')\n",
        "            if args.frame_stack > 1:\n",
        "                img = img[0]\n",
        "            out.write(img)\n",
        "        \n",
        "        # If a new piece has been generated, decide wether we will explore or exploit for this piece\n",
        "        if (info is not None) and (piece_count != info.get(\"piece_count\")):\n",
        "            piece_count = info.get(\"piece_count\")\n",
        "            if global_step < args.learning_starts:\n",
        "                epsilon = args.start_e\n",
        "            else:\n",
        "                duration = args.exploration_fraction * (args.total_timesteps - args.learning_starts)\n",
        "                epsilon = linear_schedule(args.start_e, args.end_e, duration, global_step - args.learning_starts)\n",
        "            explore = (random.random() < epsilon)\n",
        "\n",
        "        if explore:\n",
        "            action = env.action_space.sample()\n",
        "        else:\n",
        "            input = np.expand_dims(np.array(obs), axis=0)\n",
        "            input = torch.Tensor(input).to(device)\n",
        "            q_values = q_network(input)\n",
        "            action = int(torch.argmax(q_values))\n",
        "\n",
        "        # Play a step with the given action\n",
        "        next_obs, reward, done, info = env.step(action)\n",
        "\n",
        "        if not done:\n",
        "            # Add observation to replay buffer\n",
        "            rb.add(obs, next_obs, np.array([action]), [reward], [done], [info])\n",
        "            obs = next_obs\n",
        "        else:\n",
        "            print(f\"Episode {episode_cnt} completed: {prefix}global_step={global_step},\\tepisodic_return={info.get('episode')['r']:.1f},\\tscore={info.get('score')}\")\n",
        "            writer.add_scalar(\"charts/episodic_return\", info.get(\"episode\")[\"r\"], global_step)\n",
        "            writer.add_scalar(\"charts/episodic_length\", info.get(\"episode\")[\"l\"], global_step)\n",
        "            writer.add_scalar(\"charts/epsilon\", epsilon, global_step)\n",
        "            writer.add_scalar(\"charts/score\", info.get(\"score\"), global_step)\n",
        "\n",
        "            episode_cnt += 1\n",
        "\n",
        "            scores.append(info.get(\"score\"))\n",
        "            if episode_cnt > args.mean_score_count:\n",
        "                mean_score = sum(scores[-args.mean_score_count:]) / args.mean_score_count\n",
        "                if mean_score > best_mean_score and global_step > args.learning_starts:\n",
        "                    best_mean_score = mean_score\n",
        "                    print(f\"New best mean score: {mean_score}\")\n",
        "                    best_model_path = f\"runs/{run_name}/{args.exp_name}.best\"\n",
        "                    torch.save(q_network.state_dict(), best_model_path)\n",
        "\n",
        "            if args.capture_inputs_video:\n",
        "                if episode_cnt % args.video_frequency == 0:\n",
        "                    out = cv2.VideoWriter(f'episode{episode_cnt}.mp4', cv2.VideoWriter_fourcc(*'mp4v'), FPS, (INPUT_SIZE[1], INPUT_SIZE[0]), False)\n",
        "                else:\n",
        "                    out = None\n",
        "            \n",
        "            if episode_cnt % args.reload_env_frequency == 0:\n",
        "                print(\"\\nReloading environement to avoid bugs\\n\")\n",
        "                env = get_env(args.env_id, args.seed, args.capture_video, run_name, args.video_frequency, args.frame_stack)\n",
        "            \n",
        "            obs = env.reset()\n",
        "\n",
        "        # Training Logic\n",
        "        if global_step > args.learning_starts:\n",
        "            if global_step % args.train_frequency == 0:\n",
        "                data = rb.sample(args.batch_size)\n",
        "                with torch.no_grad():\n",
        "                    target_max, _ = target_network(data.next_observations).max(dim=1)\n",
        "                    td_target = data.rewards.flatten() + args.gamma * target_max * (1 - data.dones.flatten())\n",
        "                old_val = q_network(data.observations).gather(1, data.actions).squeeze()\n",
        "                # loss = F.mse_loss(td_target, old_val)\n",
        "                loss = F.mse_loss(old_val, td_target)\n",
        "\n",
        "                if global_step % 100 == 0:\n",
        "                    writer.add_scalar(\"losses/td_loss\", loss, global_step)\n",
        "                    writer.add_scalar(\"losses/q_values\", old_val.mean().item(), global_step)\n",
        "                    writer.add_scalar(\"charts/SPS\", int(global_step / (time.time() - start_time)), global_step)\n",
        "\n",
        "                # optimize the model\n",
        "                optimizer.zero_grad()\n",
        "                loss.backward()\n",
        "                optimizer.step()\n",
        "\n",
        "            # update target network\n",
        "            if global_step % args.target_network_frequency == 0:\n",
        "                for target_network_param, q_network_param in zip(target_network.parameters(), q_network.parameters()):\n",
        "                    target_network_param.data.copy_(\n",
        "                        args.tau * q_network_param.data + (1.0 - args.tau) * target_network_param.data\n",
        "                    )\n",
        "\n",
        "            if global_step % args.backup_frequency == 0:\n",
        "                best_model_path = f\"runs/{run_name}/{args.exp_name}.backup\"\n",
        "                torch.save(q_network.state_dict(), best_model_path)\n",
        "\n",
        "    if args.save_model:\n",
        "        model_path = f\"runs/{run_name}/{args.exp_name}.cleanrl_model\"\n",
        "        torch.save(q_network.state_dict(), model_path)\n",
        "        print(f\"{prefix}model saved to {model_path}\")\n",
        "\n",
        "        scores = evaluate(\n",
        "            q_network,\n",
        "            args.env_id,\n",
        "            args.eval_episodes,\n",
        "            run_name=f\"{run_name}-eval\",\n",
        "            seed=args.seed,\n",
        "            device=device,\n",
        "            capture_video=args.capture_video,\n",
        "            frame_stack=args.frame_stack\n",
        "        )\n",
        "\n",
        "        print(\"Eval Scores:\", scores)\n",
        "        \n",
        "    env.close()\n",
        "    writer.close()"
      ]
    },
    {
      "attachments": {},
      "cell_type": "markdown",
      "metadata": {
        "id": "jhHGXzJGi-yI"
      },
      "source": [
        "## Main"
      ]
    },
    {
      "cell_type": "code",
      "execution_count": 10,
      "metadata": {
        "id": "a74aYTyfXD3A"
      },
      "outputs": [],
      "source": [
        "class Args:\n",
        "    def __init__(self):\n",
        "        # Settings\n",
        "        self.exp_name = \"Tetris_DQN\"\n",
        "        self.torch_deterministic = True\n",
        "        self.cuda = True\n",
        "        self.mps = False\n",
        "        self.capture_video = True\n",
        "        self.capture_inputs_video = True\n",
        "        self.save_model = True\n",
        "        self.eval_episodes = 1\n",
        "        self.video_frequency = 50\n",
        "        self.backup_frequency = 10000\n",
        "        self.mean_score_count = 25\n",
        "        self.reload_env_frequency = 50\n",
        "\n",
        "        # Hyper-Parameters\n",
        "        self.env_id = \"TetrisA-v4\"\n",
        "        self.frame_stack = 6\n",
        "        self.seed = 3\n",
        "        self.total_timesteps = 1_000_000\n",
        "        self.learning_rate = 1e-4\n",
        "        self.buffer_size = 50_000\n",
        "        self.gamma = 0.99\n",
        "        self.tau = 0.999\n",
        "        self.target_network_frequency = 2000\n",
        "        self.batch_size = 32\n",
        "        self.start_e = 1\n",
        "        self.end_e = 0.1\n",
        "        self.exploration_fraction = 0.15\n",
        "        self.learning_starts = 40_000\n",
        "        self.train_frequency = 1"
      ]
    },
    {
      "cell_type": "code",
      "execution_count": 11,
      "metadata": {
        "id": "74u8GL2dfD2F"
      },
      "outputs": [],
      "source": [
        "# !rm -r runs/* videos/* model_input_videos/* episode*.mp4"
      ]
    },
    {
      "cell_type": "code",
      "execution_count": 12,
      "metadata": {
        "colab": {
          "base_uri": "https://localhost:8080/"
        },
        "id": "Qm_lId5hUjDm",
        "outputId": "c886e297-b83f-465d-bba7-06f47371cb71"
      },
      "outputs": [
        {
          "name": "stdout",
          "output_type": "stream",
          "text": [
            "device_name: cuda\n",
            "----------------------------------------------------------------\n",
            "        Layer (type)               Output Shape         Param #\n",
            "================================================================\n",
            "            Conv2d-1           [32, 32, 20, 20]          12,320\n",
            "              ReLU-2           [32, 32, 20, 20]               0\n",
            "            Conv2d-3             [32, 64, 9, 9]          32,832\n",
            "              ReLU-4             [32, 64, 9, 9]               0\n",
            "            Conv2d-5             [32, 64, 7, 7]          36,928\n",
            "              ReLU-6             [32, 64, 7, 7]               0\n",
            "           Flatten-7                 [32, 3136]               0\n",
            "            Linear-8                  [32, 512]       1,606,144\n",
            "              ReLU-9                  [32, 512]               0\n",
            "           Linear-10                    [32, 6]           3,078\n",
            "================================================================\n",
            "Total params: 1,691,302\n",
            "Trainable params: 1,691,302\n",
            "Non-trainable params: 0\n",
            "----------------------------------------------------------------\n",
            "Input size (MB): 5.17\n",
            "Forward/backward pass size (MB): 11.33\n",
            "Params size (MB): 6.45\n",
            "Estimated Total Size (MB): 22.95\n",
            "----------------------------------------------------------------\n",
            "Episode 0 completed: global_step=220,\tepisodic_return=-88.4,\tscore=0\n",
            "Episode 1 completed: global_step=456,\tepisodic_return=-70.0,\tscore=0\n"
          ]
        },
        {
          "ename": "KeyboardInterrupt",
          "evalue": "",
          "output_type": "error",
          "traceback": [
            "\u001b[0;31m---------------------------------------------------------------------------\u001b[0m",
            "\u001b[0;31mKeyboardInterrupt\u001b[0m                         Traceback (most recent call last)",
            "Cell \u001b[0;32mIn[12], line 2\u001b[0m\n\u001b[1;32m      1\u001b[0m args \u001b[39m=\u001b[39m Args()\n\u001b[0;32m----> 2\u001b[0m train(args)\n",
            "Cell \u001b[0;32mIn[9], line 88\u001b[0m, in \u001b[0;36mtrain\u001b[0;34m(args)\u001b[0m\n\u001b[1;32m     85\u001b[0m     action \u001b[39m=\u001b[39m \u001b[39mint\u001b[39m(torch\u001b[39m.\u001b[39margmax(q_values))\n\u001b[1;32m     87\u001b[0m \u001b[39m# Play a step with the given action\u001b[39;00m\n\u001b[0;32m---> 88\u001b[0m next_obs, reward, done, info \u001b[39m=\u001b[39m env\u001b[39m.\u001b[39;49mstep(action)\n\u001b[1;32m     90\u001b[0m \u001b[39mif\u001b[39;00m \u001b[39mnot\u001b[39;00m done:\n\u001b[1;32m     91\u001b[0m     \u001b[39m# Add observation to replay buffer\u001b[39;00m\n\u001b[1;32m     92\u001b[0m     rb\u001b[39m.\u001b[39madd(obs, next_obs, np\u001b[39m.\u001b[39marray([action]), [reward], [done], [info])\n",
            "Cell \u001b[0;32mIn[6], line 13\u001b[0m, in \u001b[0;36mFrameSkipEnv.step\u001b[0;34m(self, action)\u001b[0m\n\u001b[1;32m     10\u001b[0m \u001b[39mfor\u001b[39;00m i \u001b[39min\u001b[39;00m \u001b[39mrange\u001b[39m(\u001b[39mself\u001b[39m\u001b[39m.\u001b[39m_skip):\n\u001b[1;32m     11\u001b[0m     \u001b[39m# Only do the action on the first frame (action 0 is always NOOP)\u001b[39;00m\n\u001b[1;32m     12\u001b[0m     real_action \u001b[39m=\u001b[39m \u001b[39m0\u001b[39m \u001b[39mif\u001b[39;00m (\u001b[39mself\u001b[39m\u001b[39m.\u001b[39m_only_first \u001b[39mand\u001b[39;00m i \u001b[39m>\u001b[39m \u001b[39m0\u001b[39m) \u001b[39melse\u001b[39;00m action\n\u001b[0;32m---> 13\u001b[0m     obs, reward, done, info \u001b[39m=\u001b[39m \u001b[39mself\u001b[39;49m\u001b[39m.\u001b[39;49menv\u001b[39m.\u001b[39;49mstep(real_action)\n\u001b[1;32m     14\u001b[0m     total_reward \u001b[39m+\u001b[39m\u001b[39m=\u001b[39m reward\n\u001b[1;32m     15\u001b[0m     \u001b[39mif\u001b[39;00m done:\n",
            "File \u001b[0;32m~/.local/lib/python3.8/site-packages/gym/wrappers/frame_stack.py:115\u001b[0m, in \u001b[0;36mFrameStack.step\u001b[0;34m(self, action)\u001b[0m\n\u001b[1;32m    114\u001b[0m \u001b[39mdef\u001b[39;00m \u001b[39mstep\u001b[39m(\u001b[39mself\u001b[39m, action):\n\u001b[0;32m--> 115\u001b[0m     observation, reward, done, info \u001b[39m=\u001b[39m \u001b[39mself\u001b[39;49m\u001b[39m.\u001b[39;49menv\u001b[39m.\u001b[39;49mstep(action)\n\u001b[1;32m    116\u001b[0m     \u001b[39mself\u001b[39m\u001b[39m.\u001b[39mframes\u001b[39m.\u001b[39mappend(observation)\n\u001b[1;32m    117\u001b[0m     \u001b[39mreturn\u001b[39;00m \u001b[39mself\u001b[39m\u001b[39m.\u001b[39mobservation(), reward, done, info\n",
            "Cell \u001b[0;32mIn[6], line 13\u001b[0m, in \u001b[0;36mFrameSkipEnv.step\u001b[0;34m(self, action)\u001b[0m\n\u001b[1;32m     10\u001b[0m \u001b[39mfor\u001b[39;00m i \u001b[39min\u001b[39;00m \u001b[39mrange\u001b[39m(\u001b[39mself\u001b[39m\u001b[39m.\u001b[39m_skip):\n\u001b[1;32m     11\u001b[0m     \u001b[39m# Only do the action on the first frame (action 0 is always NOOP)\u001b[39;00m\n\u001b[1;32m     12\u001b[0m     real_action \u001b[39m=\u001b[39m \u001b[39m0\u001b[39m \u001b[39mif\u001b[39;00m (\u001b[39mself\u001b[39m\u001b[39m.\u001b[39m_only_first \u001b[39mand\u001b[39;00m i \u001b[39m>\u001b[39m \u001b[39m0\u001b[39m) \u001b[39melse\u001b[39;00m action\n\u001b[0;32m---> 13\u001b[0m     obs, reward, done, info \u001b[39m=\u001b[39m \u001b[39mself\u001b[39;49m\u001b[39m.\u001b[39;49menv\u001b[39m.\u001b[39;49mstep(real_action)\n\u001b[1;32m     14\u001b[0m     total_reward \u001b[39m+\u001b[39m\u001b[39m=\u001b[39m reward\n\u001b[1;32m     15\u001b[0m     \u001b[39mif\u001b[39;00m done:\n",
            "File \u001b[0;32m~/.local/lib/python3.8/site-packages/gym/core.py:323\u001b[0m, in \u001b[0;36mObservationWrapper.step\u001b[0;34m(self, action)\u001b[0m\n\u001b[1;32m    322\u001b[0m \u001b[39mdef\u001b[39;00m \u001b[39mstep\u001b[39m(\u001b[39mself\u001b[39m, action):\n\u001b[0;32m--> 323\u001b[0m     observation, reward, done, info \u001b[39m=\u001b[39m \u001b[39mself\u001b[39;49m\u001b[39m.\u001b[39;49menv\u001b[39m.\u001b[39;49mstep(action)\n\u001b[1;32m    324\u001b[0m     \u001b[39mreturn\u001b[39;00m \u001b[39mself\u001b[39m\u001b[39m.\u001b[39mobservation(observation), reward, done, info\n",
            "File \u001b[0;32m~/.local/lib/python3.8/site-packages/gym/core.py:323\u001b[0m, in \u001b[0;36mObservationWrapper.step\u001b[0;34m(self, action)\u001b[0m\n\u001b[1;32m    322\u001b[0m \u001b[39mdef\u001b[39;00m \u001b[39mstep\u001b[39m(\u001b[39mself\u001b[39m, action):\n\u001b[0;32m--> 323\u001b[0m     observation, reward, done, info \u001b[39m=\u001b[39m \u001b[39mself\u001b[39;49m\u001b[39m.\u001b[39;49menv\u001b[39m.\u001b[39;49mstep(action)\n\u001b[1;32m    324\u001b[0m     \u001b[39mreturn\u001b[39;00m \u001b[39mself\u001b[39m\u001b[39m.\u001b[39mobservation(observation), reward, done, info\n",
            "File \u001b[0;32m~/.local/lib/python3.8/site-packages/gym/core.py:323\u001b[0m, in \u001b[0;36mObservationWrapper.step\u001b[0;34m(self, action)\u001b[0m\n\u001b[1;32m    322\u001b[0m \u001b[39mdef\u001b[39;00m \u001b[39mstep\u001b[39m(\u001b[39mself\u001b[39m, action):\n\u001b[0;32m--> 323\u001b[0m     observation, reward, done, info \u001b[39m=\u001b[39m \u001b[39mself\u001b[39;49m\u001b[39m.\u001b[39;49menv\u001b[39m.\u001b[39;49mstep(action)\n\u001b[1;32m    324\u001b[0m     \u001b[39mreturn\u001b[39;00m \u001b[39mself\u001b[39m\u001b[39m.\u001b[39mobservation(observation), reward, done, info\n",
            "File \u001b[0;32m~/.local/lib/python3.8/site-packages/gym/wrappers/record_video.py:86\u001b[0m, in \u001b[0;36mRecordVideo.step\u001b[0;34m(self, action)\u001b[0m\n\u001b[1;32m     85\u001b[0m \u001b[39mdef\u001b[39;00m \u001b[39mstep\u001b[39m(\u001b[39mself\u001b[39m, action):\n\u001b[0;32m---> 86\u001b[0m     observations, rewards, dones, infos \u001b[39m=\u001b[39m \u001b[39msuper\u001b[39;49m(RecordVideo, \u001b[39mself\u001b[39;49m)\u001b[39m.\u001b[39;49mstep(action)\n\u001b[1;32m     88\u001b[0m     \u001b[39m# increment steps and episodes\u001b[39;00m\n\u001b[1;32m     89\u001b[0m     \u001b[39mself\u001b[39m\u001b[39m.\u001b[39mstep_id \u001b[39m+\u001b[39m\u001b[39m=\u001b[39m \u001b[39m1\u001b[39m\n",
            "File \u001b[0;32m~/.local/lib/python3.8/site-packages/gym/core.py:289\u001b[0m, in \u001b[0;36mWrapper.step\u001b[0;34m(self, action)\u001b[0m\n\u001b[1;32m    288\u001b[0m \u001b[39mdef\u001b[39;00m \u001b[39mstep\u001b[39m(\u001b[39mself\u001b[39m, action):\n\u001b[0;32m--> 289\u001b[0m     \u001b[39mreturn\u001b[39;00m \u001b[39mself\u001b[39;49m\u001b[39m.\u001b[39;49menv\u001b[39m.\u001b[39;49mstep(action)\n",
            "File \u001b[0;32m~/.local/lib/python3.8/site-packages/gym/wrappers/record_episode_statistics.py:26\u001b[0m, in \u001b[0;36mRecordEpisodeStatistics.step\u001b[0;34m(self, action)\u001b[0m\n\u001b[1;32m     25\u001b[0m \u001b[39mdef\u001b[39;00m \u001b[39mstep\u001b[39m(\u001b[39mself\u001b[39m, action):\n\u001b[0;32m---> 26\u001b[0m     observations, rewards, dones, infos \u001b[39m=\u001b[39m \u001b[39msuper\u001b[39;49m(RecordEpisodeStatistics, \u001b[39mself\u001b[39;49m)\u001b[39m.\u001b[39;49mstep(\n\u001b[1;32m     27\u001b[0m         action\n\u001b[1;32m     28\u001b[0m     )\n\u001b[1;32m     29\u001b[0m     \u001b[39mself\u001b[39m\u001b[39m.\u001b[39mepisode_returns \u001b[39m+\u001b[39m\u001b[39m=\u001b[39m rewards\n\u001b[1;32m     30\u001b[0m     \u001b[39mself\u001b[39m\u001b[39m.\u001b[39mepisode_lengths \u001b[39m+\u001b[39m\u001b[39m=\u001b[39m \u001b[39m1\u001b[39m\n",
            "File \u001b[0;32m~/.local/lib/python3.8/site-packages/gym/core.py:289\u001b[0m, in \u001b[0;36mWrapper.step\u001b[0;34m(self, action)\u001b[0m\n\u001b[1;32m    288\u001b[0m \u001b[39mdef\u001b[39;00m \u001b[39mstep\u001b[39m(\u001b[39mself\u001b[39m, action):\n\u001b[0;32m--> 289\u001b[0m     \u001b[39mreturn\u001b[39;00m \u001b[39mself\u001b[39;49m\u001b[39m.\u001b[39;49menv\u001b[39m.\u001b[39;49mstep(action)\n",
            "File \u001b[0;32m~/.local/lib/python3.8/site-packages/nes_py/wrappers/joypad_space.py:74\u001b[0m, in \u001b[0;36mJoypadSpace.step\u001b[0;34m(self, action)\u001b[0m\n\u001b[1;32m     59\u001b[0m \u001b[39m\u001b[39m\u001b[39m\"\"\"\u001b[39;00m\n\u001b[1;32m     60\u001b[0m \u001b[39mTake a step using the given action.\u001b[39;00m\n\u001b[1;32m     61\u001b[0m \n\u001b[0;32m   (...)\u001b[0m\n\u001b[1;32m     71\u001b[0m \n\u001b[1;32m     72\u001b[0m \u001b[39m\"\"\"\u001b[39;00m\n\u001b[1;32m     73\u001b[0m \u001b[39m# take the step and record the output\u001b[39;00m\n\u001b[0;32m---> 74\u001b[0m \u001b[39mreturn\u001b[39;00m \u001b[39mself\u001b[39;49m\u001b[39m.\u001b[39;49menv\u001b[39m.\u001b[39;49mstep(\u001b[39mself\u001b[39;49m\u001b[39m.\u001b[39;49m_action_map[action])\n",
            "File \u001b[0;32m~/.local/lib/python3.8/site-packages/gym/wrappers/order_enforcing.py:11\u001b[0m, in \u001b[0;36mOrderEnforcing.step\u001b[0;34m(self, action)\u001b[0m\n\u001b[1;32m      9\u001b[0m \u001b[39mdef\u001b[39;00m \u001b[39mstep\u001b[39m(\u001b[39mself\u001b[39m, action):\n\u001b[1;32m     10\u001b[0m     \u001b[39massert\u001b[39;00m \u001b[39mself\u001b[39m\u001b[39m.\u001b[39m_has_reset, \u001b[39m\"\u001b[39m\u001b[39mCannot call env.step() before calling reset()\u001b[39m\u001b[39m\"\u001b[39m\n\u001b[0;32m---> 11\u001b[0m     observation, reward, done, info \u001b[39m=\u001b[39m \u001b[39mself\u001b[39;49m\u001b[39m.\u001b[39;49menv\u001b[39m.\u001b[39;49mstep(action)\n\u001b[1;32m     12\u001b[0m     \u001b[39mreturn\u001b[39;00m observation, reward, done, info\n",
            "File \u001b[0;32m~/.local/lib/python3.8/site-packages/nes_py/nes_env.py:300\u001b[0m, in \u001b[0;36mNESEnv.step\u001b[0;34m(self, action)\u001b[0m\n\u001b[1;32m    298\u001b[0m \u001b[39mself\u001b[39m\u001b[39m.\u001b[39mcontrollers[\u001b[39m0\u001b[39m][:] \u001b[39m=\u001b[39m action\n\u001b[1;32m    299\u001b[0m \u001b[39m# pass the action to the emulator as an unsigned byte\u001b[39;00m\n\u001b[0;32m--> 300\u001b[0m _LIB\u001b[39m.\u001b[39;49mStep(\u001b[39mself\u001b[39;49m\u001b[39m.\u001b[39;49m_env)\n\u001b[1;32m    301\u001b[0m \u001b[39m# get the reward for this step\u001b[39;00m\n\u001b[1;32m    302\u001b[0m reward \u001b[39m=\u001b[39m \u001b[39mfloat\u001b[39m(\u001b[39mself\u001b[39m\u001b[39m.\u001b[39m_get_reward())\n",
            "\u001b[0;31mKeyboardInterrupt\u001b[0m: "
          ]
        }
      ],
      "source": [
        "args = Args()\n",
        "train(args)"
      ]
    },
    {
      "cell_type": "code",
      "execution_count": null,
      "metadata": {},
      "outputs": [],
      "source": [
        "device = 'cuda'\n",
        "run_name = f\"{args.env_id}__{args.exp_name}__{args.seed}__{int(time.time())}\"\n",
        "state_dict = torch.load(f\"runs/{run_name}/{args.exp_name}.best\") #, device)\n",
        "net = QNetwork(len(SIMPLE_MOVEMENT), args.frame_stack).to(device)\n",
        "net.load_state_dict(state_dict)"
      ]
    },
    {
      "cell_type": "code",
      "execution_count": null,
      "metadata": {},
      "outputs": [],
      "source": [
        "# score = evaluate(net, args.env_id, 1, '', 20, device, True, 1, args.frame_stack, 0.0)\n",
        "# score = evaluate(net, args.env_id, 1, '', 20, device, True, 1, args.frame_stack, 0.1)"
      ]
    },
    {
      "cell_type": "code",
      "execution_count": null,
      "metadata": {
        "id": "1Q-ZggO-qtbL"
      },
      "outputs": [],
      "source": [
        "%load_ext tensorboard\n",
        "%tensorboard --logdir runs"
      ]
    }
  ],
  "metadata": {
    "accelerator": "GPU",
    "colab": {
      "collapsed_sections": [
        "W1KbrN9Li5i8",
        "ORRWWz8dIqaH"
      ],
      "provenance": []
    },
    "gpuClass": "standard",
    "kernelspec": {
      "display_name": "tetrisenv",
      "language": "python",
      "name": "python3"
    },
    "language_info": {
      "codemirror_mode": {
        "name": "ipython",
        "version": 3
      },
      "file_extension": ".py",
      "mimetype": "text/x-python",
      "name": "python",
      "nbconvert_exporter": "python",
      "pygments_lexer": "ipython3",
      "version": "3.8.10"
    },
    "vscode": {
      "interpreter": {
        "hash": "4a7f40d72114c62e91de8d79ab05a4f10d2c48422b550572d6072f074507511d"
      }
    }
  },
  "nbformat": 4,
  "nbformat_minor": 0
}
